{
 "cells": [
  {
   "cell_type": "code",
   "execution_count": 1,
   "metadata": {},
   "outputs": [],
   "source": [
    "# import libraries\n",
    "import numpy as np, pandas as pd\n",
    "from scipy.optimize import minimize\n",
    "import mpmath\n",
    "from ortools.linear_solver import pywraplp"
   ]
  },
  {
   "cell_type": "code",
   "execution_count": 2,
   "metadata": {
    "scrolled": true
   },
   "outputs": [],
   "source": [
    "df = pd.read_csv('data.csv')"
   ]
  },
  {
   "cell_type": "code",
   "execution_count": 3,
   "metadata": {
    "scrolled": true
   },
   "outputs": [
    {
     "data": {
      "text/html": [
       "<div>\n",
       "<style scoped>\n",
       "    .dataframe tbody tr th:only-of-type {\n",
       "        vertical-align: middle;\n",
       "    }\n",
       "\n",
       "    .dataframe tbody tr th {\n",
       "        vertical-align: top;\n",
       "    }\n",
       "\n",
       "    .dataframe thead th {\n",
       "        text-align: right;\n",
       "    }\n",
       "</style>\n",
       "<table border=\"1\" class=\"dataframe\">\n",
       "  <thead>\n",
       "    <tr style=\"text-align: right;\">\n",
       "      <th></th>\n",
       "      <th>srch_id</th>\n",
       "      <th>prop_starrating</th>\n",
       "      <th>prop_review_score</th>\n",
       "      <th>prop_brand_bool</th>\n",
       "      <th>prop_location_score</th>\n",
       "      <th>prop_accesibility_score</th>\n",
       "      <th>prop_log_historical_price</th>\n",
       "      <th>price_usd</th>\n",
       "      <th>promotion_flag</th>\n",
       "      <th>srch_booking_window</th>\n",
       "      <th>srch_adults_count</th>\n",
       "      <th>srch_children_count</th>\n",
       "      <th>srch_room_count</th>\n",
       "      <th>srch_saturday_night_bool</th>\n",
       "      <th>booking_bool</th>\n",
       "    </tr>\n",
       "  </thead>\n",
       "  <tbody>\n",
       "    <tr>\n",
       "      <th>0</th>\n",
       "      <td>1</td>\n",
       "      <td>4</td>\n",
       "      <td>3</td>\n",
       "      <td>1</td>\n",
       "      <td>2</td>\n",
       "      <td>0</td>\n",
       "      <td>5</td>\n",
       "      <td>140</td>\n",
       "      <td>0</td>\n",
       "      <td>0</td>\n",
       "      <td>4</td>\n",
       "      <td>0</td>\n",
       "      <td>1</td>\n",
       "      <td>1</td>\n",
       "      <td>0</td>\n",
       "    </tr>\n",
       "    <tr>\n",
       "      <th>1</th>\n",
       "      <td>1</td>\n",
       "      <td>3</td>\n",
       "      <td>5</td>\n",
       "      <td>1</td>\n",
       "      <td>2</td>\n",
       "      <td>0</td>\n",
       "      <td>5</td>\n",
       "      <td>211</td>\n",
       "      <td>0</td>\n",
       "      <td>0</td>\n",
       "      <td>4</td>\n",
       "      <td>0</td>\n",
       "      <td>1</td>\n",
       "      <td>1</td>\n",
       "      <td>0</td>\n",
       "    </tr>\n",
       "    <tr>\n",
       "      <th>2</th>\n",
       "      <td>1</td>\n",
       "      <td>4</td>\n",
       "      <td>4</td>\n",
       "      <td>1</td>\n",
       "      <td>3</td>\n",
       "      <td>0</td>\n",
       "      <td>5</td>\n",
       "      <td>150</td>\n",
       "      <td>0</td>\n",
       "      <td>0</td>\n",
       "      <td>4</td>\n",
       "      <td>0</td>\n",
       "      <td>1</td>\n",
       "      <td>1</td>\n",
       "      <td>0</td>\n",
       "    </tr>\n",
       "    <tr>\n",
       "      <th>3</th>\n",
       "      <td>1</td>\n",
       "      <td>4</td>\n",
       "      <td>3</td>\n",
       "      <td>1</td>\n",
       "      <td>3</td>\n",
       "      <td>0</td>\n",
       "      <td>5</td>\n",
       "      <td>144</td>\n",
       "      <td>0</td>\n",
       "      <td>0</td>\n",
       "      <td>4</td>\n",
       "      <td>0</td>\n",
       "      <td>1</td>\n",
       "      <td>1</td>\n",
       "      <td>0</td>\n",
       "    </tr>\n",
       "    <tr>\n",
       "      <th>4</th>\n",
       "      <td>1</td>\n",
       "      <td>4</td>\n",
       "      <td>4</td>\n",
       "      <td>1</td>\n",
       "      <td>2</td>\n",
       "      <td>0</td>\n",
       "      <td>5</td>\n",
       "      <td>191</td>\n",
       "      <td>0</td>\n",
       "      <td>0</td>\n",
       "      <td>4</td>\n",
       "      <td>0</td>\n",
       "      <td>1</td>\n",
       "      <td>1</td>\n",
       "      <td>0</td>\n",
       "    </tr>\n",
       "  </tbody>\n",
       "</table>\n",
       "</div>"
      ],
      "text/plain": [
       "   srch_id  prop_starrating  prop_review_score  prop_brand_bool  \\\n",
       "0        1                4                  3                1   \n",
       "1        1                3                  5                1   \n",
       "2        1                4                  4                1   \n",
       "3        1                4                  3                1   \n",
       "4        1                4                  4                1   \n",
       "\n",
       "   prop_location_score  prop_accesibility_score  prop_log_historical_price  \\\n",
       "0                    2                        0                          5   \n",
       "1                    2                        0                          5   \n",
       "2                    3                        0                          5   \n",
       "3                    3                        0                          5   \n",
       "4                    2                        0                          5   \n",
       "\n",
       "   price_usd  promotion_flag  srch_booking_window  srch_adults_count  \\\n",
       "0        140               0                    0                  4   \n",
       "1        211               0                    0                  4   \n",
       "2        150               0                    0                  4   \n",
       "3        144               0                    0                  4   \n",
       "4        191               0                    0                  4   \n",
       "\n",
       "   srch_children_count  srch_room_count  srch_saturday_night_bool  \\\n",
       "0                    0                1                         1   \n",
       "1                    0                1                         1   \n",
       "2                    0                1                         1   \n",
       "3                    0                1                         1   \n",
       "4                    0                1                         1   \n",
       "\n",
       "   booking_bool  \n",
       "0             0  \n",
       "1             0  \n",
       "2             0  \n",
       "3             0  \n",
       "4             0  "
      ]
     },
     "execution_count": 3,
     "metadata": {},
     "output_type": "execute_result"
    }
   ],
   "source": [
    "df.head()"
   ]
  },
  {
   "cell_type": "code",
   "execution_count": 4,
   "metadata": {},
   "outputs": [],
   "source": [
    "mean_original = []\n",
    "std_original = []\n",
    "for i in range(1,9):\n",
    "    mean = np.mean(df.iloc[:,i])\n",
    "    mean_original.append(mean)\n",
    "    std = np.std(df.iloc[:,i])\n",
    "    std_original.append(std)"
   ]
  },
  {
   "cell_type": "code",
   "execution_count": 5,
   "metadata": {},
   "outputs": [],
   "source": [
    "def get_Beta(df, mean, std):\n",
    "    for i in range(1,9):\n",
    "        df.iloc[:,i] = (df.iloc[:,i] - mean[i-1]) / std[i-1]\n",
    "    search_id = df['srch_id'].unique().tolist()\n",
    "    new_df = []\n",
    "    for i in search_id:\n",
    "        new_df.append(pd.DataFrame(df.loc[df['srch_id'] == i]).to_numpy(dtype=np.float32))\n",
    "    def MLE(beta):\n",
    "        log = 0\n",
    "        for i in range(len(search_id)):\n",
    "            linear_term = 0\n",
    "            if 1 in new_df[i][:,14]:\n",
    "                linear_term = new_df[i][:,1:9].dot(beta[1:]).dot(new_df[i][:,14]) + beta[0]\n",
    "            log += linear_term\n",
    "            total = 0\n",
    "            for k in range(new_df[i].shape[0]):\n",
    "                total +=  mpmath.exp(new_df[i][k][1:9].dot(beta[1:]) + beta[0])\n",
    "            log -= float(mpmath.log(1 + total))\n",
    "        return -log\n",
    "    res = minimize(MLE, np.ones((9,)),  method='BFGS')\n",
    "    return res"
   ]
  },
  {
   "cell_type": "code",
   "execution_count": 133,
   "metadata": {
    "scrolled": true
   },
   "outputs": [],
   "source": [
    "res_original = get_Beta(df,mean_original,std_original)"
   ]
  },
  {
   "cell_type": "code",
   "execution_count": 135,
   "metadata": {},
   "outputs": [
    {
     "data": {
      "text/plain": [
       "      fun: 20611.32596621373\n",
       " hess_inv: array([[ 2.50921995e-03, -1.99446847e-03, -2.76420143e-04,\n",
       "        -2.13896877e-04, -1.58119281e-03,  4.40247951e-04,\n",
       "        -2.99601098e-05,  6.09981189e-04,  1.93814867e-04],\n",
       "       [-1.99446847e-03,  1.59105873e-03,  2.20026156e-04,\n",
       "         1.64882623e-04,  1.25187108e-03, -3.53126349e-04,\n",
       "         2.52519988e-05, -4.86355819e-04, -1.56296073e-04],\n",
       "       [-2.76420143e-04,  2.20026156e-04,  3.13752311e-05,\n",
       "         2.32078973e-05,  1.73196241e-04, -4.84238979e-05,\n",
       "         3.39143093e-06, -6.57255868e-05, -2.27577366e-05],\n",
       "       [-2.13896877e-04,  1.64882623e-04,  2.32078973e-05,\n",
       "         2.33306138e-05,  1.39633428e-04, -3.47108048e-05,\n",
       "         1.13316361e-06, -5.03066426e-05, -1.49335213e-05],\n",
       "       [-1.58119281e-03,  1.25187108e-03,  1.73196241e-04,\n",
       "         1.39633428e-04,  1.00458613e-03, -2.76952043e-04,\n",
       "         1.67531261e-05, -3.85871110e-04, -1.16032865e-04],\n",
       "       [ 4.40247951e-04, -3.53126349e-04, -4.84238979e-05,\n",
       "        -3.47108048e-05, -2.76952043e-04,  8.10614792e-05,\n",
       "        -5.94899373e-06,  1.09943752e-04,  3.21474078e-05],\n",
       "       [-2.99601098e-05,  2.52519988e-05,  3.39143093e-06,\n",
       "         1.13316361e-06,  1.67531261e-05, -5.94899373e-06,\n",
       "         1.27209132e-06, -7.65890041e-06, -3.35405033e-06],\n",
       "       [ 6.09981189e-04, -4.86355819e-04, -6.57255868e-05,\n",
       "        -5.03066426e-05, -3.85871110e-04,  1.09943752e-04,\n",
       "        -7.65890041e-06,  1.54459930e-04,  4.22540033e-05],\n",
       "       [ 1.93814867e-04, -1.56296073e-04, -2.27577366e-05,\n",
       "        -1.49335213e-05, -1.16032865e-04,  3.21474078e-05,\n",
       "        -3.35405033e-06,  4.22540033e-05,  2.26510254e-05]])\n",
       "      jac: array([-0.01538086, -0.00854492, -0.00463867, -0.00878906, -0.00878906,\n",
       "       -0.00366211, -0.00048828,  0.00048828, -0.00244141])\n",
       "  message: 'Desired error not necessarily achieved due to precision loss.'\n",
       "     nfev: 1021\n",
       "      nit: 30\n",
       "     njev: 92\n",
       "   status: 2\n",
       "  success: False\n",
       "        x: array([-1.74662743,  0.40812391,  0.10876074,  0.10138235,  0.02202491,\n",
       "        0.04344406, -0.06686938, -1.33110656,  0.15977641])"
      ]
     },
     "execution_count": 135,
     "metadata": {},
     "output_type": "execute_result"
    }
   ],
   "source": [
    "res_original"
   ]
  },
  {
   "cell_type": "code",
   "execution_count": 6,
   "metadata": {},
   "outputs": [],
   "source": [
    "beta_original = [-1.74662743,  0.40812391,  0.10876074,  0.10138235,  0.02202491,\n",
    "        0.04344406, -0.06686938, -1.33110656,  0.15977641]"
   ]
  },
  {
   "cell_type": "code",
   "execution_count": 175,
   "metadata": {},
   "outputs": [],
   "source": [
    "def get_Assortment(df, mean, std, beta, theta):\n",
    "    # df is data1,2,3,4\n",
    "    def calculate_V():\n",
    "        V = np.zeros((df.shape[0],len(theta)))\n",
    "        \n",
    "        for k in range(len(theta)):\n",
    "            new_df = pd.DataFrame.copy(df)\n",
    "            for i in range(8):\n",
    "                new_df.iloc[:,i] = (new_df.iloc[:,i] - mean[k][i]) / std[k][i]\n",
    "            V[:,k] = new_df.dot(beta[k][1:]) + beta[k][0]\n",
    "        return np.exp(V)\n",
    "    n = df.shape[0]\n",
    "    p = df.iloc[:,6].to_numpy(dtype=np.float32)\n",
    "    V = calculate_V()\n",
    "    solver = pywraplp.Solver('final project',\n",
    "                             pywraplp.Solver.CBC_MIXED_INTEGER_PROGRAMMING)\n",
    "    z = [0 for k in range(len(theta))]\n",
    "    for k in range(len(theta)):\n",
    "        z[k] = solver.NumVar(0, solver.infinity(), 'z' + str(k))\n",
    "    x = [0 for i in range(n)]\n",
    "    for j in range(n):\n",
    "        x[j] = solver.IntVar(0, 1, 'x' + str(j))\n",
    "\n",
    "    y = [[0 for k in range(len(theta))] for j in range(n)]\n",
    "    for k in range(len(theta)):\n",
    "        for j in range(n):\n",
    "            y[j][k] = solver.NumVar(0, solver.infinity(), 'y' + str(j) + str(k))\n",
    "\n",
    "    for k in range(len(theta)):\n",
    "        sum_y = 0\n",
    "        sum_x = 0\n",
    "        for j in range(n):\n",
    "            sum_y += V[j][k] * y[j][k]\n",
    "            sum_x += V[j][k] * x[j] * p[j]\n",
    "        solver.Add(z[k] + sum_y >= sum_x)\n",
    "        solver.Add(z[k] + sum_y <= sum_x)\n",
    "\n",
    "    M = 10000\n",
    "    for j in range(n):\n",
    "        for k in range(len(theta)):\n",
    "            solver.Add(y[j][k] >= 0)\n",
    "            solver.Add(y[j][k] <= M * x[j])\n",
    "\n",
    "    for j in range(n):\n",
    "        for k in range(len(theta)):\n",
    "            solver.Add(- M * (1 - x[j]) + z[k] <= y[j][k])\n",
    "            solver.Add(y[j][k] <= z[k])\n",
    "\n",
    "    objective = solver.Objective()\n",
    "    for i in range(2):\n",
    "        objective.SetCoefficient(z[i], theta[i])\n",
    "    objective.SetMaximization()\n",
    "    status = solver.Solve()\n",
    "    if status == solver.OPTIMAL:\n",
    "        print('Problem solved in %f milliseconds' %solver.wall_time())\n",
    "    elif status == solver.FEASIBLE:\n",
    "        print('Solver claims feasibility but not optimality')\n",
    "    else:\n",
    "        print('Solver ran to completion but did not find an optimal solution')\n",
    "\n",
    "    print('The objective value is ', objective.Value())\n",
    "    assortment = []\n",
    "    for i in range(n):\n",
    "        assortment.append(x[i].solution_value())\n",
    "    return assortment"
   ]
  },
  {
   "cell_type": "code",
   "execution_count": 11,
   "metadata": {},
   "outputs": [
    {
     "name": "stderr",
     "output_type": "stream",
     "text": [
      "/Users/aaronyan/anaconda3/lib/python3.7/site-packages/ipykernel_launcher.py:4: SettingWithCopyWarning: \n",
      "A value is trying to be set on a copy of a slice from a DataFrame\n",
      "\n",
      "See the caveats in the documentation: http://pandas.pydata.org/pandas-docs/stable/indexing.html#indexing-view-versus-copy\n",
      "  after removing the cwd from sys.path.\n"
     ]
    }
   ],
   "source": [
    "data = pd.read_csv('data.csv')\n",
    "df = data[['srch_id', 'srch_booking_window', 'srch_adults_count', 'srch_children_count',\n",
    "       'srch_room_count', 'srch_saturday_night_bool', 'booking_bool']]\n",
    "df.drop_duplicates(keep=False,inplace=True)\n",
    "features = ['srch_booking_window', 'srch_adults_count',\n",
    "       'srch_children_count', 'srch_room_count', 'srch_saturday_night_bool',\n",
    "       'booking_bool']\n",
    "\n",
    "X = df[features].values\n",
    "import sklearn.cluster\n",
    "import sklearn.metrics\n",
    "model_1 = sklearn.cluster.KMeans(n_clusters=3)\n",
    "model_1.fit_predict(X)\n",
    "results = model_1.labels_.tolist()\n",
    "df1 = pd.DataFrame.copy(df)\n",
    "df1['label'] = results"
   ]
  },
  {
   "cell_type": "code",
   "execution_count": 12,
   "metadata": {},
   "outputs": [],
   "source": [
    "model_2 = sklearn.cluster.KMeans(n_clusters=4)\n",
    "model_2.fit_predict(X)\n",
    "results_2 = model_2.labels_.tolist()\n",
    "df2 = pd.DataFrame.copy(df)\n",
    "df2['labels'] = results_2"
   ]
  },
  {
   "cell_type": "code",
   "execution_count": 18,
   "metadata": {},
   "outputs": [
    {
     "data": {
      "text/html": [
       "<div>\n",
       "<style scoped>\n",
       "    .dataframe tbody tr th:only-of-type {\n",
       "        vertical-align: middle;\n",
       "    }\n",
       "\n",
       "    .dataframe tbody tr th {\n",
       "        vertical-align: top;\n",
       "    }\n",
       "\n",
       "    .dataframe thead th {\n",
       "        text-align: right;\n",
       "    }\n",
       "</style>\n",
       "<table border=\"1\" class=\"dataframe\">\n",
       "  <thead>\n",
       "    <tr style=\"text-align: right;\">\n",
       "      <th></th>\n",
       "      <th>srch_id</th>\n",
       "      <th>srch_booking_window</th>\n",
       "      <th>srch_adults_count</th>\n",
       "      <th>srch_children_count</th>\n",
       "      <th>srch_room_count</th>\n",
       "      <th>srch_saturday_night_bool</th>\n",
       "      <th>booking_bool</th>\n",
       "      <th>label</th>\n",
       "    </tr>\n",
       "  </thead>\n",
       "  <tbody>\n",
       "    <tr>\n",
       "      <th>9</th>\n",
       "      <td>1</td>\n",
       "      <td>0</td>\n",
       "      <td>4</td>\n",
       "      <td>0</td>\n",
       "      <td>1</td>\n",
       "      <td>1</td>\n",
       "      <td>1</td>\n",
       "      <td>0</td>\n",
       "    </tr>\n",
       "    <tr>\n",
       "      <th>43</th>\n",
       "      <td>75</td>\n",
       "      <td>30</td>\n",
       "      <td>3</td>\n",
       "      <td>1</td>\n",
       "      <td>1</td>\n",
       "      <td>0</td>\n",
       "      <td>1</td>\n",
       "      <td>1</td>\n",
       "    </tr>\n",
       "    <tr>\n",
       "      <th>77</th>\n",
       "      <td>101</td>\n",
       "      <td>74</td>\n",
       "      <td>4</td>\n",
       "      <td>1</td>\n",
       "      <td>2</td>\n",
       "      <td>1</td>\n",
       "      <td>1</td>\n",
       "      <td>1</td>\n",
       "    </tr>\n",
       "    <tr>\n",
       "      <th>91</th>\n",
       "      <td>218</td>\n",
       "      <td>0</td>\n",
       "      <td>1</td>\n",
       "      <td>1</td>\n",
       "      <td>2</td>\n",
       "      <td>0</td>\n",
       "      <td>1</td>\n",
       "      <td>0</td>\n",
       "    </tr>\n",
       "    <tr>\n",
       "      <th>100</th>\n",
       "      <td>236</td>\n",
       "      <td>15</td>\n",
       "      <td>3</td>\n",
       "      <td>0</td>\n",
       "      <td>1</td>\n",
       "      <td>0</td>\n",
       "      <td>1</td>\n",
       "      <td>0</td>\n",
       "    </tr>\n",
       "  </tbody>\n",
       "</table>\n",
       "</div>"
      ],
      "text/plain": [
       "     srch_id  srch_booking_window  srch_adults_count  srch_children_count  \\\n",
       "9          1                    0                  4                    0   \n",
       "43        75                   30                  3                    1   \n",
       "77       101                   74                  4                    1   \n",
       "91       218                    0                  1                    1   \n",
       "100      236                   15                  3                    0   \n",
       "\n",
       "     srch_room_count  srch_saturday_night_bool  booking_bool  label  \n",
       "9                  1                         1             1      0  \n",
       "43                 1                         0             1      1  \n",
       "77                 2                         1             1      1  \n",
       "91                 2                         0             1      0  \n",
       "100                1                         0             1      0  "
      ]
     },
     "execution_count": 18,
     "metadata": {},
     "output_type": "execute_result"
    }
   ],
   "source": [
    "df1.head()"
   ]
  },
  {
   "cell_type": "code",
   "execution_count": 19,
   "metadata": {},
   "outputs": [
    {
     "data": {
      "text/html": [
       "<div>\n",
       "<style scoped>\n",
       "    .dataframe tbody tr th:only-of-type {\n",
       "        vertical-align: middle;\n",
       "    }\n",
       "\n",
       "    .dataframe tbody tr th {\n",
       "        vertical-align: top;\n",
       "    }\n",
       "\n",
       "    .dataframe thead th {\n",
       "        text-align: right;\n",
       "    }\n",
       "</style>\n",
       "<table border=\"1\" class=\"dataframe\">\n",
       "  <thead>\n",
       "    <tr style=\"text-align: right;\">\n",
       "      <th></th>\n",
       "      <th>srch_id</th>\n",
       "      <th>srch_booking_window</th>\n",
       "      <th>srch_adults_count</th>\n",
       "      <th>srch_children_count</th>\n",
       "      <th>srch_room_count</th>\n",
       "      <th>srch_saturday_night_bool</th>\n",
       "      <th>booking_bool</th>\n",
       "      <th>labels</th>\n",
       "    </tr>\n",
       "  </thead>\n",
       "  <tbody>\n",
       "    <tr>\n",
       "      <th>9</th>\n",
       "      <td>1</td>\n",
       "      <td>0</td>\n",
       "      <td>4</td>\n",
       "      <td>0</td>\n",
       "      <td>1</td>\n",
       "      <td>1</td>\n",
       "      <td>1</td>\n",
       "      <td>0</td>\n",
       "    </tr>\n",
       "    <tr>\n",
       "      <th>43</th>\n",
       "      <td>75</td>\n",
       "      <td>30</td>\n",
       "      <td>3</td>\n",
       "      <td>1</td>\n",
       "      <td>1</td>\n",
       "      <td>0</td>\n",
       "      <td>1</td>\n",
       "      <td>2</td>\n",
       "    </tr>\n",
       "    <tr>\n",
       "      <th>77</th>\n",
       "      <td>101</td>\n",
       "      <td>74</td>\n",
       "      <td>4</td>\n",
       "      <td>1</td>\n",
       "      <td>2</td>\n",
       "      <td>1</td>\n",
       "      <td>1</td>\n",
       "      <td>3</td>\n",
       "    </tr>\n",
       "    <tr>\n",
       "      <th>91</th>\n",
       "      <td>218</td>\n",
       "      <td>0</td>\n",
       "      <td>1</td>\n",
       "      <td>1</td>\n",
       "      <td>2</td>\n",
       "      <td>0</td>\n",
       "      <td>1</td>\n",
       "      <td>0</td>\n",
       "    </tr>\n",
       "    <tr>\n",
       "      <th>100</th>\n",
       "      <td>236</td>\n",
       "      <td>15</td>\n",
       "      <td>3</td>\n",
       "      <td>0</td>\n",
       "      <td>1</td>\n",
       "      <td>0</td>\n",
       "      <td>1</td>\n",
       "      <td>0</td>\n",
       "    </tr>\n",
       "  </tbody>\n",
       "</table>\n",
       "</div>"
      ],
      "text/plain": [
       "     srch_id  srch_booking_window  srch_adults_count  srch_children_count  \\\n",
       "9          1                    0                  4                    0   \n",
       "43        75                   30                  3                    1   \n",
       "77       101                   74                  4                    1   \n",
       "91       218                    0                  1                    1   \n",
       "100      236                   15                  3                    0   \n",
       "\n",
       "     srch_room_count  srch_saturday_night_bool  booking_bool  labels  \n",
       "9                  1                         1             1       0  \n",
       "43                 1                         0             1       2  \n",
       "77                 2                         1             1       3  \n",
       "91                 2                         0             1       0  \n",
       "100                1                         0             1       0  "
      ]
     },
     "execution_count": 19,
     "metadata": {},
     "output_type": "execute_result"
    }
   ],
   "source": [
    "df2.head()"
   ]
  },
  {
   "cell_type": "code",
   "execution_count": 20,
   "metadata": {},
   "outputs": [],
   "source": [
    "label_0 = []\n",
    "label_1 = []\n",
    "label_2 = []\n",
    "for i in range(df1.shape[0]):\n",
    "    if df1.iloc[i,-1] == 0.0:\n",
    "        label_0.append(df1.iloc[i,0])\n",
    "    elif df1.iloc[i,-1] == 1.0:\n",
    "        label_1.append(df1.iloc[i,0])\n",
    "    elif df1.iloc[i,-1] == 2.0:\n",
    "        label_2.append(df1.iloc[i,0])"
   ]
  },
  {
   "cell_type": "code",
   "execution_count": 23,
   "metadata": {},
   "outputs": [],
   "source": [
    "label0 = []\n",
    "label1 = []\n",
    "label2 = []\n",
    "label3 = []\n",
    "for i in range(df2.shape[0]):\n",
    "    if df2.iloc[i,-1] == 0.0:\n",
    "        label0.append(df2.iloc[i,0])\n",
    "    elif df2.iloc[i,-1] == 1.0:\n",
    "        label1.append(df2.iloc[i,0])\n",
    "    elif df2.iloc[i,-1] == 2.0:\n",
    "        label2.append(df2.iloc[i,0])\n",
    "    elif df2.iloc[i,-1] == 3.0:\n",
    "        label3.append(df2.iloc[i,0])"
   ]
  },
  {
   "cell_type": "code",
   "execution_count": 22,
   "metadata": {},
   "outputs": [],
   "source": [
    "data_3cluster = pd.read_csv('data.csv')\n",
    "\n",
    "# search_id = df1['srch_id'].unique().tolist()\n",
    "# for i in search_id:\n",
    "#     if data.iloc[]\n",
    "data_3cluster['label'] = 0\n",
    "for i in range (data_3cluster.shape[0]):\n",
    "    if data_3cluster.iloc[i,0] in label_0:\n",
    "        data_3cluster.iloc[i, -1] = 0\n",
    "    elif data_3cluster.iloc[i,0] in label_1:\n",
    "        data_3cluster.iloc[i, -1] = 1\n",
    "    elif data_3cluster.iloc[i,0] in label_2:\n",
    "        data_3cluster.iloc[i, -1] = 2\n"
   ]
  },
  {
   "cell_type": "code",
   "execution_count": 153,
   "metadata": {},
   "outputs": [],
   "source": [
    "data_spec = pd.read_csv('spec_data.csv')"
   ]
  },
  {
   "cell_type": "code",
   "execution_count": 155,
   "metadata": {},
   "outputs": [],
   "source": [
    "df_spec_one = data_spec[data_spec['labels'] == 0]\n",
    "df_spec_two = data_spec[data_spec['labels'] == 1]\n",
    "df_spec_three = data_spec[data_spec['labels'] == 2]\n",
    "df_spec_four = data_spec[data_spec['labels'] == 3]"
   ]
  },
  {
   "cell_type": "code",
   "execution_count": 159,
   "metadata": {},
   "outputs": [],
   "source": [
    "mean_spec_one = []\n",
    "std_spec_one = []\n",
    "for i in range(1,9):\n",
    "    mean = np.mean(df_spec_one.iloc[:,i])\n",
    "    mean_spec_one.append(mean)\n",
    "    std = np.std(df_spec_one.iloc[:,i])\n",
    "    std_spec_one.append(std)\n",
    "mean_spec_two = []\n",
    "std_spec_two = []\n",
    "for i in range(1,9):\n",
    "    mean = np.mean(df_spec_two.iloc[:,i])\n",
    "    mean_spec_two.append(mean)\n",
    "    std = np.std(df_spec_two.iloc[:,i])\n",
    "    std_spec_two.append(std)\n",
    "mean_spec_three = []\n",
    "std_spec_three = []\n",
    "for i in range(1,9):\n",
    "    mean = np.mean(df_spec_three.iloc[:,i])\n",
    "    mean_spec_three.append(mean)\n",
    "    std = np.std(df_spec_three.iloc[:,i])\n",
    "    std_spec_three.append(std)\n",
    "mean_spec_four = []\n",
    "std_spec_four = []\n",
    "for i in range(1,9):\n",
    "    mean = np.mean(df_spec_four.iloc[:,i])\n",
    "    mean_spec_four.append(mean)\n",
    "    std = np.std(df_spec_four.iloc[:,i])\n",
    "    std_spec_four.append(std)\n"
   ]
  },
  {
   "cell_type": "code",
   "execution_count": 160,
   "metadata": {},
   "outputs": [],
   "source": [
    "theta_spec_cluster = []\n",
    "theta_spec_cluster.append(df_spec_one.shape[0] / data_spec.shape[0])\n",
    "theta_spec_cluster.append(df_spec_two.shape[0] / data_spec.shape[0])\n",
    "theta_spec_cluster.append(df_spec_three.shape[0] / data_spec.shape[0])\n",
    "theta_spec_cluster.append(df_spec_four.shape[0] / data_spec.shape[0])"
   ]
  },
  {
   "cell_type": "code",
   "execution_count": 163,
   "metadata": {},
   "outputs": [
    {
     "name": "stderr",
     "output_type": "stream",
     "text": [
      "/Users/aaronyan/anaconda3/lib/python3.7/site-packages/pandas/core/indexing.py:543: SettingWithCopyWarning: \n",
      "A value is trying to be set on a copy of a slice from a DataFrame.\n",
      "Try using .loc[row_indexer,col_indexer] = value instead\n",
      "\n",
      "See the caveats in the documentation: http://pandas.pydata.org/pandas-docs/stable/indexing.html#indexing-view-versus-copy\n",
      "  self.obj[item] = s\n",
      "/Users/aaronyan/anaconda3/lib/python3.7/site-packages/pandas/core/indexing.py:543: SettingWithCopyWarning: \n",
      "A value is trying to be set on a copy of a slice from a DataFrame.\n",
      "Try using .loc[row_indexer,col_indexer] = value instead\n",
      "\n",
      "See the caveats in the documentation: http://pandas.pydata.org/pandas-docs/stable/indexing.html#indexing-view-versus-copy\n",
      "  self.obj[item] = s\n",
      "/Users/aaronyan/anaconda3/lib/python3.7/site-packages/pandas/core/indexing.py:543: SettingWithCopyWarning: \n",
      "A value is trying to be set on a copy of a slice from a DataFrame.\n",
      "Try using .loc[row_indexer,col_indexer] = value instead\n",
      "\n",
      "See the caveats in the documentation: http://pandas.pydata.org/pandas-docs/stable/indexing.html#indexing-view-versus-copy\n",
      "  self.obj[item] = s\n",
      "/Users/aaronyan/anaconda3/lib/python3.7/site-packages/pandas/core/indexing.py:543: SettingWithCopyWarning: \n",
      "A value is trying to be set on a copy of a slice from a DataFrame.\n",
      "Try using .loc[row_indexer,col_indexer] = value instead\n",
      "\n",
      "See the caveats in the documentation: http://pandas.pydata.org/pandas-docs/stable/indexing.html#indexing-view-versus-copy\n",
      "  self.obj[item] = s\n"
     ]
    }
   ],
   "source": [
    "res_spec_1 = get_Beta(df_spec_one,mean_spec_one,std_spec_one)\n",
    "res_spec_2 = get_Beta(df_spec_two,mean_spec_two,std_spec_two)\n",
    "res_spec_3 = get_Beta(df_spec_three,mean_spec_three,std_spec_three)\n",
    "res_spec_4 = get_Beta(df_spec_four,mean_spec_four,std_spec_four)"
   ]
  },
  {
   "cell_type": "code",
   "execution_count": 164,
   "metadata": {},
   "outputs": [
    {
     "data": {
      "text/plain": [
       "      fun: 2480.909782880881\n",
       " hess_inv: array([[ 8.67970611e+02, -9.59340057e-05, -9.58106959e-03,\n",
       "        -3.14296218e-03,  7.66531622e-02, -2.25418338e-05,\n",
       "         1.09550887e-01,  6.13322604e+02,  6.27235782e-04],\n",
       "       [-9.71709406e-05,  1.65021835e-03, -6.89754678e-04,\n",
       "        -2.93713539e-08, -5.03744500e-04,  1.86438553e-07,\n",
       "        -1.14749551e-03, -5.57330923e-04, -2.03678355e-05],\n",
       "       [-9.58077637e-03, -6.89755729e-04,  1.52774802e-03,\n",
       "        -2.08231683e-05,  5.25163072e-05, -7.33160794e-10,\n",
       "        -6.05148054e-04, -1.15600182e-02,  9.61175114e-06],\n",
       "       [-3.14187975e-03, -2.79449586e-08, -2.08244228e-05,\n",
       "         1.06315705e-04,  2.02853274e-05,  5.65530535e-08,\n",
       "        -6.57820712e-05, -2.33493905e-03,  3.27672405e-06],\n",
       "       [ 7.66551656e-02, -5.03718844e-04,  5.25085531e-05,\n",
       "         2.02652461e-05,  8.95649863e-03, -1.59620594e-06,\n",
       "        -8.22314238e-04,  3.72199535e-02, -3.34451409e-05],\n",
       "       [-2.25394455e-05,  1.86435480e-07, -7.34461197e-10,\n",
       "         5.65584808e-08, -1.59615158e-06,  2.44296382e-08,\n",
       "         1.86757779e-06, -1.78564408e-05, -5.49550699e-08],\n",
       "       [ 1.09545919e-01, -1.14748505e-03, -6.05146319e-04,\n",
       "        -6.57969308e-05, -8.22433926e-04,  1.86756992e-06,\n",
       "         4.66140608e-02, -3.34120621e-02,  3.62506776e-05],\n",
       "       [ 6.13322615e+02, -5.56522727e-04, -1.15602194e-02,\n",
       "        -2.33563355e-03,  3.72188764e-02, -1.78580295e-05,\n",
       "        -3.34087204e-02,  4.33757327e+02,  4.41701576e-04],\n",
       "       [ 6.27357155e-04, -2.03676942e-05,  9.61161472e-06,\n",
       "         3.27674041e-06, -3.34428563e-05, -5.49556431e-08,\n",
       "         3.62522701e-05,  4.41779611e-04,  3.31368159e-05]])\n",
       "      jac: array([-0.05712891,  0.6010437 ,  0.53521729,  0.12780762,  0.26885986,\n",
       "       -8.72512817,  0.23071289,  0.07922363,  0.19390869])\n",
       "  message: 'Desired error not necessarily achieved due to precision loss.'\n",
       "     nfev: 1717\n",
       "      nit: 41\n",
       "     njev: 155\n",
       "   status: 2\n",
       "  success: False\n",
       "        x: array([-1.01341152e+04,  2.61983281e-01,  6.48576646e-02,  3.16100619e-02,\n",
       "       -2.46777404e-02,  2.54551329e-04, -2.06786748e-01, -7.16521113e+03,\n",
       "        1.34420645e-02])"
      ]
     },
     "execution_count": 164,
     "metadata": {},
     "output_type": "execute_result"
    }
   ],
   "source": [
    "res_spec_1"
   ]
  },
  {
   "cell_type": "code",
   "execution_count": 165,
   "metadata": {},
   "outputs": [
    {
     "data": {
      "text/plain": [
       "      fun: 391.78289399894874\n",
       " hess_inv: array([[ 2.13484710e-01, -1.86260197e-01,  1.74566961e-01,\n",
       "        -3.96586732e-02,  7.49386125e-02, -2.87512855e-03,\n",
       "        -5.58015475e-01,  1.90758117e+00, -7.41375044e-02],\n",
       "       [-1.86260197e-01,  1.70292033e-01, -1.55379544e-01,\n",
       "         3.50919305e-02, -6.19746827e-02,  2.48586359e-03,\n",
       "         4.82225305e-01, -1.66600192e+00,  6.61365003e-02],\n",
       "       [ 1.74566961e-01, -1.55379544e-01,  1.45793819e-01,\n",
       "        -3.33211709e-02,  5.90107205e-02, -2.35172769e-03,\n",
       "        -4.60820502e-01,  1.57557074e+00, -6.22505676e-02],\n",
       "       [-3.96586732e-02,  3.50919305e-02, -3.33211709e-02,\n",
       "         8.86048097e-03, -1.34856674e-02,  5.57828932e-04,\n",
       "         1.08901196e-01, -3.66746673e-01,  1.44732788e-02],\n",
       "       [ 7.49386125e-02, -6.19746827e-02,  5.90107205e-02,\n",
       "        -1.34856674e-02,  3.04797708e-02, -1.02873655e-03,\n",
       "        -2.00560886e-01,  6.76747525e-01, -2.61519852e-02],\n",
       "       [-2.87512855e-03,  2.48586359e-03, -2.35172769e-03,\n",
       "         5.57828932e-04, -1.02873655e-03,  5.73932857e-05,\n",
       "         7.83468094e-03, -2.64302804e-02,  1.03687436e-03],\n",
       "       [-5.58015475e-01,  4.82225305e-01, -4.60820502e-01,\n",
       "         1.08901196e-01, -2.00560886e-01,  7.83468094e-03,\n",
       "         1.52644447e+00, -5.14094885e+00,  2.03845159e-01],\n",
       "       [ 1.90758117e+00, -1.66600192e+00,  1.57557074e+00,\n",
       "        -3.66746673e-01,  6.76747525e-01, -2.64302804e-02,\n",
       "        -5.14094885e+00,  1.74205144e+01, -6.89078577e-01],\n",
       "       [-7.41375044e-02,  6.61365003e-02, -6.22505676e-02,\n",
       "         1.44732788e-02, -2.61519852e-02,  1.03687436e-03,\n",
       "         2.03845159e-01, -6.89078577e-01,  2.82919057e-02]])\n",
       "      jac: array([-4.57763672e-05,  6.86645508e-05,  6.48498535e-05,  1.90734863e-05,\n",
       "        3.81469727e-05, -1.52587891e-04,  3.43322754e-05, -3.81469727e-06,\n",
       "       -4.57763672e-05])\n",
       "  message: 'Desired error not necessarily achieved due to precision loss.'\n",
       "     nfev: 1332\n",
       "      nit: 54\n",
       "     njev: 121\n",
       "   status: 2\n",
       "  success: False\n",
       "        x: array([-1.30962848e+02,  9.66394067e-02,  1.71100988e-01, -1.87747730e-02,\n",
       "       -1.19010488e-01,  2.72059863e-03, -4.99916144e-02, -2.09419328e+02,\n",
       "        3.11001753e-02])"
      ]
     },
     "execution_count": 165,
     "metadata": {},
     "output_type": "execute_result"
    }
   ],
   "source": [
    "res_spec_2"
   ]
  },
  {
   "cell_type": "code",
   "execution_count": 166,
   "metadata": {},
   "outputs": [
    {
     "data": {
      "text/plain": [
       "      fun: 830.4197133013757\n",
       " hess_inv: array([[ 2.32918573e+00, -5.06436667e+00,  1.26842066e+00,\n",
       "        -2.62736922e-03,  4.94601635e-02, -9.05469145e-05,\n",
       "         2.02072822e+01,  1.00541810e+01,  9.19262119e-04],\n",
       "       [-5.06436667e+00,  1.19186944e+01, -2.96588647e+00,\n",
       "         1.43737749e-02, -5.65690651e-02,  4.89843165e-04,\n",
       "        -4.73542613e+01, -2.36205616e+01, -3.99142359e-03],\n",
       "       [ 1.26842066e+00, -2.96588647e+00,  7.42127450e-01,\n",
       "        -3.59251625e-03,  1.38318632e-02, -1.01746510e-04,\n",
       "         1.17786691e+01,  5.87550269e+00,  1.03259884e-03],\n",
       "       [-2.62736922e-03,  1.43737749e-02, -3.59251625e-03,\n",
       "         1.20282694e-03,  5.32939965e-04, -1.25861271e-05,\n",
       "        -5.61910748e-02, -2.86284774e-02,  1.42617606e-04],\n",
       "       [ 4.94601635e-02, -5.65690651e-02,  1.38318632e-02,\n",
       "         5.32939965e-04,  1.19668364e-02,  4.65947185e-06,\n",
       "         2.22973171e-01,  9.95197490e-02, -1.44101365e-04],\n",
       "       [-9.05469145e-05,  4.89843165e-04, -1.01746510e-04,\n",
       "        -1.25861271e-05,  4.65947185e-06,  1.61374720e-05,\n",
       "        -1.89174443e-03, -9.50531685e-04,  8.02218948e-06],\n",
       "       [ 2.02072822e+01, -4.73542613e+01,  1.17786691e+01,\n",
       "        -5.61910748e-02,  2.22973171e-01, -1.89174443e-03,\n",
       "         1.88251723e+02,  9.39028882e+01,  1.47501399e-02],\n",
       "       [ 1.00541810e+01, -2.36205616e+01,  5.87550269e+00,\n",
       "        -2.86284774e-02,  9.95197490e-02, -9.50531685e-04,\n",
       "         9.39028882e+01,  4.68519243e+01,  7.51917130e-03],\n",
       "       [ 9.19262119e-04, -3.99142359e-03,  1.03259884e-03,\n",
       "         1.42617606e-04, -1.44101365e-04,  8.02218948e-06,\n",
       "         1.47501399e-02,  7.51917130e-03,  4.96601114e-04]])\n",
       "      jac: array([ 2.28881836e-05, -7.62939453e-06, -4.57763672e-05,  4.19616699e-04,\n",
       "       -3.81469727e-05,  7.14874268e-03,  5.34057617e-05,  0.00000000e+00,\n",
       "       -4.19616699e-04])\n",
       "  message: 'Desired error not necessarily achieved due to precision loss.'\n",
       "     nfev: 1463\n",
       "      nit: 35\n",
       "     njev: 132\n",
       "   status: 2\n",
       "  success: False\n",
       "        x: array([-2.32809247e+01,  1.91737735e-01,  4.06044319e-02,  3.73399985e-02,\n",
       "       -2.99671576e-01,  4.59778762e-03, -2.56169928e-01, -7.50579092e+01,\n",
       "        5.86493290e-02])"
      ]
     },
     "execution_count": 166,
     "metadata": {},
     "output_type": "execute_result"
    }
   ],
   "source": [
    "res_spec_3"
   ]
  },
  {
   "cell_type": "code",
   "execution_count": 167,
   "metadata": {},
   "outputs": [
    {
     "data": {
      "text/plain": [
       "      fun: 16819.90831930047\n",
       " hess_inv: array([[ 3.47783106e-06,  7.30148375e-08,  1.52425639e-07,\n",
       "         6.11554944e-07, -9.72351117e-07, -3.25420425e-07,\n",
       "        -5.49264292e-07,  7.87350923e-07, -1.09494252e-07],\n",
       "       [ 7.30148375e-08,  1.49549006e-07, -3.65753282e-09,\n",
       "         1.20651730e-07, -1.77101828e-07, -8.83220892e-08,\n",
       "        -1.29053604e-07, -2.94997862e-07, -5.23587126e-09],\n",
       "       [ 1.52425639e-07, -3.65753282e-09,  6.25141118e-07,\n",
       "         9.18124126e-09,  7.38483358e-08, -5.43958193e-09,\n",
       "        -2.40560831e-07, -6.31543522e-07, -2.51037119e-07],\n",
       "       [ 6.11554944e-07,  1.20651730e-07,  9.18124126e-09,\n",
       "         6.27347864e-07, -4.79107306e-07, -1.97601646e-07,\n",
       "        -1.80312009e-07, -4.81831369e-07, -3.25795474e-08],\n",
       "       [-9.72351117e-07, -1.77101828e-07,  7.38483358e-08,\n",
       "        -4.79107306e-07,  9.12309448e-07,  1.86569420e-07,\n",
       "         5.70408906e-08,  6.88057538e-07,  4.47265023e-09],\n",
       "       [-3.25420425e-07, -8.83220892e-08, -5.43958193e-09,\n",
       "        -1.97601646e-07,  1.86569420e-07,  1.84849200e-07,\n",
       "         1.14819822e-07,  2.64049676e-07,  7.82073919e-08],\n",
       "       [-5.49264292e-07, -1.29053604e-07, -2.40560831e-07,\n",
       "        -1.80312009e-07,  5.70408906e-08,  1.14819822e-07,\n",
       "         6.18762040e-07,  9.75711339e-08,  4.20500114e-07],\n",
       "       [ 7.87350923e-07, -2.94997862e-07, -6.31543522e-07,\n",
       "        -4.81831369e-07,  6.88057538e-07,  2.64049676e-07,\n",
       "         9.75711339e-08,  3.27117674e-06,  4.59932937e-07],\n",
       "       [-1.09494252e-07, -5.23587126e-09, -2.51037119e-07,\n",
       "        -3.25795474e-08,  4.47265023e-09,  7.82073919e-08,\n",
       "         4.20500114e-07,  4.59932937e-07,  5.62703612e-07]])\n",
       "      jac: array([0.00244141, 0.00146484, 0.00341797, 0.01269531, 0.00463867,\n",
       "       0.01196289, 0.00756836, 0.01245117, 0.00952148])\n",
       "  message: 'Desired error not necessarily achieved due to precision loss.'\n",
       "     nfev: 1728\n",
       "      nit: 59\n",
       "     njev: 156\n",
       "   status: 2\n",
       "  success: False\n",
       "        x: array([-1.32645012e+02,  3.93395568e-01,  1.13031708e-01,  4.35548373e-02,\n",
       "        6.92957501e-02,  3.39445920e-03, -1.09642530e-01, -1.05536094e+02,\n",
       "        5.76433271e-02])"
      ]
     },
     "execution_count": 167,
     "metadata": {},
     "output_type": "execute_result"
    }
   ],
   "source": [
    "res_spec_4"
   ]
  },
  {
   "cell_type": "code",
   "execution_count": 32,
   "metadata": {},
   "outputs": [],
   "source": [
    "data_4cluster = pd.read_csv('kmeans_data.csv')"
   ]
  },
  {
   "cell_type": "code",
   "execution_count": 29,
   "metadata": {},
   "outputs": [],
   "source": [
    "df_3_one = data_3cluster[data_3cluster['label'] == 0]\n",
    "df_3_two = data_3cluster[data_3cluster['label'] == 1]\n",
    "df_3_three = data_3cluster[data_3cluster['label'] == 2]"
   ]
  },
  {
   "cell_type": "code",
   "execution_count": 33,
   "metadata": {},
   "outputs": [],
   "source": [
    "df_4_one = data_4cluster[data_4cluster['labels'] == 0]\n",
    "df_4_two = data_4cluster[data_4cluster['labels'] == 1]\n",
    "df_4_three = data_4cluster[data_4cluster['labels'] == 2]\n",
    "df_4_four = data_4cluster[data_4cluster['labels'] == 3]"
   ]
  },
  {
   "cell_type": "code",
   "execution_count": 36,
   "metadata": {},
   "outputs": [],
   "source": [
    "mean_3_one = []\n",
    "std_3_one = []\n",
    "for i in range(1,9):\n",
    "    mean = np.mean(df_3_one.iloc[:,i])\n",
    "    mean_3_one.append(mean)\n",
    "    std = np.std(df_3_one.iloc[:,i])\n",
    "    std_3_one.append(std)\n",
    "mean_3_two = []\n",
    "std_3_two = []\n",
    "for i in range(1,9):\n",
    "    mean = np.mean(df_3_two.iloc[:,i])\n",
    "    mean_3_two.append(mean)\n",
    "    std = np.std(df_3_two.iloc[:,i])\n",
    "    std_3_two.append(std)\n",
    "mean_3_three = []\n",
    "std_3_three = []\n",
    "for i in range(1,9):\n",
    "    mean = np.mean(df_3_three.iloc[:,i])\n",
    "    mean_3_three.append(mean)\n",
    "    std = np.std(df_3_three.iloc[:,i])\n",
    "    std_3_three.append(std)\n"
   ]
  },
  {
   "cell_type": "code",
   "execution_count": 37,
   "metadata": {},
   "outputs": [],
   "source": [
    "mean_4_one = []\n",
    "std_4_one = []\n",
    "for i in range(1,9):\n",
    "    mean = np.mean(df_4_one.iloc[:,i])\n",
    "    mean_4_one.append(mean)\n",
    "    std = np.std(df_4_one.iloc[:,i])\n",
    "    std_4_one.append(std)\n",
    "mean_4_two = []\n",
    "std_4_two = []\n",
    "for i in range(1,9):\n",
    "    mean = np.mean(df_4_two.iloc[:,i])\n",
    "    mean_4_two.append(mean)\n",
    "    std = np.std(df_4_two.iloc[:,i])\n",
    "    std_4_two.append(std)\n",
    "mean_4_three = []\n",
    "std_4_three = []\n",
    "for i in range(1,9):\n",
    "    mean = np.mean(df_4_three.iloc[:,i])\n",
    "    mean_4_three.append(mean)\n",
    "    std = np.std(df_4_three.iloc[:,i])\n",
    "    std_4_three.append(std)\n",
    "mean_4_four = []\n",
    "std_4_four = []\n",
    "for i in range(1,9):\n",
    "    mean = np.mean(df_4_three.iloc[:,i])\n",
    "    mean_4_four.append(mean)\n",
    "    std = np.std(df_4_three.iloc[:,i])\n",
    "    std_4_four.append(std)\n"
   ]
  },
  {
   "cell_type": "code",
   "execution_count": 117,
   "metadata": {},
   "outputs": [
    {
     "name": "stderr",
     "output_type": "stream",
     "text": [
      "/Users/aaronyan/anaconda3/lib/python3.7/site-packages/pandas/core/indexing.py:543: SettingWithCopyWarning: \n",
      "A value is trying to be set on a copy of a slice from a DataFrame.\n",
      "Try using .loc[row_indexer,col_indexer] = value instead\n",
      "\n",
      "See the caveats in the documentation: http://pandas.pydata.org/pandas-docs/stable/indexing.html#indexing-view-versus-copy\n",
      "  self.obj[item] = s\n",
      "/Users/aaronyan/anaconda3/lib/python3.7/site-packages/pandas/core/indexing.py:543: SettingWithCopyWarning: \n",
      "A value is trying to be set on a copy of a slice from a DataFrame.\n",
      "Try using .loc[row_indexer,col_indexer] = value instead\n",
      "\n",
      "See the caveats in the documentation: http://pandas.pydata.org/pandas-docs/stable/indexing.html#indexing-view-versus-copy\n",
      "  self.obj[item] = s\n",
      "/Users/aaronyan/anaconda3/lib/python3.7/site-packages/pandas/core/indexing.py:543: SettingWithCopyWarning: \n",
      "A value is trying to be set on a copy of a slice from a DataFrame.\n",
      "Try using .loc[row_indexer,col_indexer] = value instead\n",
      "\n",
      "See the caveats in the documentation: http://pandas.pydata.org/pandas-docs/stable/indexing.html#indexing-view-versus-copy\n",
      "  self.obj[item] = s\n"
     ]
    }
   ],
   "source": [
    "res_one = get_Beta(df_3_one,mean_3_one,std_3_one)\n",
    "res_two = get_Beta(df_3_two,mean_3_two,std_3_two)\n",
    "res_three = get_Beta(df_3_three,mean_3_three,std_3_three)"
   ]
  },
  {
   "cell_type": "code",
   "execution_count": 118,
   "metadata": {},
   "outputs": [
    {
     "data": {
      "text/plain": [
       "      fun: 16229.354198152256\n",
       " hess_inv: array([[ 2.02668753e-04,  2.86324006e-05, -7.12824220e-05,\n",
       "        -5.92436894e-05, -6.12220825e-05, -3.02275505e-05,\n",
       "        -9.46361659e-05,  1.33514447e-04,  8.01000211e-05],\n",
       "       [ 2.86324006e-05,  1.66961007e-04, -7.87849689e-05,\n",
       "        -8.17313015e-06,  4.01727279e-05, -2.71781084e-05,\n",
       "        -1.03893385e-04,  1.42625283e-06, -2.31733114e-05],\n",
       "       [-7.12824220e-05, -7.87849689e-05,  2.71886382e-04,\n",
       "        -1.41743403e-05, -2.08183014e-04,  3.58955616e-05,\n",
       "         2.49469755e-04, -3.48378840e-05, -6.38881845e-05],\n",
       "       [-5.92436894e-05, -8.17313015e-06, -1.41743403e-05,\n",
       "         2.54258762e-04, -6.22637876e-06,  4.24407920e-06,\n",
       "         9.43505970e-05, -1.82953258e-04, -9.65790898e-06],\n",
       "       [-6.12220825e-05,  4.01727279e-05, -2.08183014e-04,\n",
       "        -6.22637876e-06,  2.90971473e-04, -2.78008507e-05,\n",
       "        -2.02579909e-04, -1.89406806e-05, -7.62554695e-08],\n",
       "       [-3.02275505e-05, -2.71781084e-05,  3.58955616e-05,\n",
       "         4.24407920e-06, -2.78008507e-05,  7.76563115e-05,\n",
       "         1.57280744e-05, -8.28456149e-05, -1.75699559e-05],\n",
       "       [-9.46361659e-05, -1.03893385e-04,  2.49469755e-04,\n",
       "         9.43505970e-05, -2.02579909e-04,  1.57280744e-05,\n",
       "         3.54060408e-04, -8.24061607e-05, -7.62060548e-05],\n",
       "       [ 1.33514447e-04,  1.42625283e-06, -3.48378840e-05,\n",
       "        -1.82953258e-04, -1.89406806e-05, -8.28456149e-05,\n",
       "        -8.24061607e-05,  2.75980378e-04,  5.93568206e-05],\n",
       "       [ 8.01000211e-05, -2.31733114e-05, -6.38881845e-05,\n",
       "        -9.65790898e-06, -7.62554695e-08, -1.75699559e-05,\n",
       "        -7.62060548e-05,  5.93568206e-05,  7.98205964e-05]])\n",
       "      jac: array([-0.00073242,  0.00012207,  0.00476074,  0.0032959 ,  0.00390625,\n",
       "        0.00976562,  0.00415039,  0.00537109,  0.00720215])\n",
       "  message: 'Desired error not necessarily achieved due to precision loss.'\n",
       "     nfev: 1154\n",
       "      nit: 33\n",
       "     njev: 104\n",
       "   status: 2\n",
       "  success: False\n",
       "        x: array([-2.08215274,  0.42792156,  0.12208375,  0.11702509,  0.00999331,\n",
       "        0.04675314, -0.06323514, -0.99569225,  0.1493836 ])"
      ]
     },
     "execution_count": 118,
     "metadata": {},
     "output_type": "execute_result"
    }
   ],
   "source": [
    "res_one"
   ]
  },
  {
   "cell_type": "code",
   "execution_count": 119,
   "metadata": {},
   "outputs": [
    {
     "data": {
      "text/plain": [
       "      fun: 2621.703410283225\n",
       " hess_inv: array([[ 2.83578660e-03,  5.69998840e-04, -1.27996789e-03,\n",
       "        -1.54894236e-04, -5.39562800e-04,  1.21208277e-04,\n",
       "         1.09471286e-03, -1.40513116e-03,  2.01713617e-04],\n",
       "       [ 5.69998840e-04,  7.93590884e-04, -8.24868698e-04,\n",
       "         1.92750090e-04,  7.49015496e-05, -9.71954109e-05,\n",
       "        -2.28183955e-04, -2.51611860e-04, -2.74411076e-04],\n",
       "       [-1.27996789e-03, -8.24868698e-04,  1.94623315e-03,\n",
       "         4.72610628e-05, -4.85738831e-04, -1.01660361e-04,\n",
       "        -2.58420826e-05,  4.82318151e-04,  3.71459763e-04],\n",
       "       [-1.54894236e-04,  1.92750090e-04,  4.72610628e-05,\n",
       "         5.36976304e-04,  8.07284784e-05, -1.47599689e-04,\n",
       "        -1.17390921e-03,  1.22657826e-04, -7.81053414e-05],\n",
       "       [-5.39562800e-04,  7.49015496e-05, -4.85738831e-04,\n",
       "         8.07284784e-05,  6.27039120e-04,  3.18590314e-05,\n",
       "        -6.53174550e-04,  4.06111756e-04, -3.42939304e-04],\n",
       "       [ 1.21208277e-04, -9.71954109e-05, -1.01660361e-04,\n",
       "        -1.47599689e-04,  3.18590314e-05,  7.85878077e-05,\n",
       "         2.07929804e-04, -2.60030679e-05,  3.08147587e-05],\n",
       "       [ 1.09471286e-03, -2.28183955e-04, -2.58420826e-05,\n",
       "        -1.17390921e-03, -6.53174550e-04,  2.07929804e-04,\n",
       "         3.46299731e-03, -8.84197465e-04,  2.82117354e-04],\n",
       "       [-1.40513116e-03, -2.51611860e-04,  4.82318151e-04,\n",
       "         1.22657826e-04,  4.06111756e-04, -2.60030679e-05,\n",
       "        -8.84197465e-04,  7.93953053e-04, -1.58096306e-04],\n",
       "       [ 2.01713617e-04, -2.74411076e-04,  3.71459763e-04,\n",
       "        -7.81053414e-05, -3.42939304e-04,  3.08147587e-05,\n",
       "         2.82117354e-04, -1.58096306e-04,  3.21657495e-04]])\n",
       "      jac: array([0.00045776, 0.00054932, 0.00027466, 0.00048828, 0.00073242,\n",
       "       0.00033569, 0.00018311, 0.00042725, 0.00042725])\n",
       "  message: 'Desired error not necessarily achieved due to precision loss.'\n",
       "     nfev: 760\n",
       "      nit: 35\n",
       "     njev: 69\n",
       "   status: 2\n",
       "  success: False\n",
       "        x: array([ 2.02049388,  0.58806615,  0.12565736,  0.11863238,  0.32397264,\n",
       "        0.0330871 ,  0.2062005 , -1.05314573,  0.18988912])"
      ]
     },
     "execution_count": 119,
     "metadata": {},
     "output_type": "execute_result"
    }
   ],
   "source": [
    "res_two"
   ]
  },
  {
   "cell_type": "code",
   "execution_count": 120,
   "metadata": {
    "scrolled": true
   },
   "outputs": [
    {
     "data": {
      "text/plain": [
       "      fun: 1105.7512765205931\n",
       " hess_inv: array([[ 2.47537127e-02,  3.69093869e-03, -1.07800709e-03,\n",
       "         1.02641255e-03,  3.41269434e-03, -3.53152345e-03,\n",
       "        -4.16136865e-03, -1.09692788e-02,  2.13962974e-03],\n",
       "       [ 3.69093869e-03,  1.92715300e-03, -6.06078006e-04,\n",
       "        -1.13410482e-03, -4.10486173e-05, -1.24491056e-03,\n",
       "        -1.17052586e-03, -6.84869351e-04,  1.05452514e-03],\n",
       "       [-1.07800709e-03, -6.06078006e-04,  2.05659447e-03,\n",
       "        -5.18710058e-04,  9.93016541e-04, -3.10115202e-04,\n",
       "        -4.67165861e-04, -3.49769241e-05,  5.59772340e-05],\n",
       "       [ 1.02641255e-03, -1.13410482e-03, -5.18710058e-04,\n",
       "         4.02014428e-03, -3.82790737e-04,  1.10455462e-03,\n",
       "         1.67506610e-03, -1.91013278e-03, -1.98602174e-03],\n",
       "       [ 3.41269434e-03, -4.10486173e-05,  9.93016541e-04,\n",
       "        -3.82790737e-04,  2.09849247e-03, -8.33680369e-04,\n",
       "        -1.12582860e-03, -2.12248593e-03,  9.19523879e-04],\n",
       "       [-3.53152345e-03, -1.24491056e-03, -3.10115202e-04,\n",
       "         1.10455462e-03, -8.33680369e-04,  1.30077620e-03,\n",
       "         1.24938126e-03,  1.19620186e-03, -1.07465032e-03],\n",
       "       [-4.16136865e-03, -1.17052586e-03, -4.67165861e-04,\n",
       "         1.67506610e-03, -1.12582860e-03,  1.24938126e-03,\n",
       "         1.84309389e-03,  1.21603437e-03, -1.38418653e-03],\n",
       "       [-1.09692788e-02, -6.84869351e-04, -3.49769241e-05,\n",
       "        -1.91013278e-03, -2.12248593e-03,  1.19620186e-03,\n",
       "         1.21603437e-03,  5.94105767e-03, -2.91561688e-04],\n",
       "       [ 2.13962974e-03,  1.05452514e-03,  5.59772340e-05,\n",
       "        -1.98602174e-03,  9.19523879e-04, -1.07465032e-03,\n",
       "        -1.38418653e-03, -2.91561688e-04,  1.50810173e-03]])\n",
       "      jac: array([ 1.52587891e-05,  9.15527344e-05,  4.57763672e-05, -6.10351562e-05,\n",
       "        6.10351562e-05,  7.62939453e-05,  7.62939453e-05,  1.52587891e-05,\n",
       "       -1.52587891e-05])\n",
       "  message: 'Desired error not necessarily achieved due to precision loss.'\n",
       "     nfev: 485\n",
       "      nit: 29\n",
       "     njev: 44\n",
       "   status: 2\n",
       "  success: False\n",
       "        x: array([ 1.83949155,  0.28127776,  0.10843109,  0.01705466,  0.16360347,\n",
       "        0.01680751, -0.24775001, -0.36514211,  0.19182447])"
      ]
     },
     "execution_count": 120,
     "metadata": {},
     "output_type": "execute_result"
    }
   ],
   "source": [
    "res_three"
   ]
  },
  {
   "cell_type": "code",
   "execution_count": 45,
   "metadata": {},
   "outputs": [
    {
     "name": "stderr",
     "output_type": "stream",
     "text": [
      "/Users/aaronyan/anaconda3/lib/python3.7/site-packages/pandas/core/indexing.py:543: SettingWithCopyWarning: \n",
      "A value is trying to be set on a copy of a slice from a DataFrame.\n",
      "Try using .loc[row_indexer,col_indexer] = value instead\n",
      "\n",
      "See the caveats in the documentation: http://pandas.pydata.org/pandas-docs/stable/indexing.html#indexing-view-versus-copy\n",
      "  self.obj[item] = s\n",
      "/Users/aaronyan/anaconda3/lib/python3.7/site-packages/pandas/core/indexing.py:543: SettingWithCopyWarning: \n",
      "A value is trying to be set on a copy of a slice from a DataFrame.\n",
      "Try using .loc[row_indexer,col_indexer] = value instead\n",
      "\n",
      "See the caveats in the documentation: http://pandas.pydata.org/pandas-docs/stable/indexing.html#indexing-view-versus-copy\n",
      "  self.obj[item] = s\n",
      "/Users/aaronyan/anaconda3/lib/python3.7/site-packages/pandas/core/indexing.py:543: SettingWithCopyWarning: \n",
      "A value is trying to be set on a copy of a slice from a DataFrame.\n",
      "Try using .loc[row_indexer,col_indexer] = value instead\n",
      "\n",
      "See the caveats in the documentation: http://pandas.pydata.org/pandas-docs/stable/indexing.html#indexing-view-versus-copy\n",
      "  self.obj[item] = s\n",
      "/Users/aaronyan/anaconda3/lib/python3.7/site-packages/pandas/core/indexing.py:543: SettingWithCopyWarning: \n",
      "A value is trying to be set on a copy of a slice from a DataFrame.\n",
      "Try using .loc[row_indexer,col_indexer] = value instead\n",
      "\n",
      "See the caveats in the documentation: http://pandas.pydata.org/pandas-docs/stable/indexing.html#indexing-view-versus-copy\n",
      "  self.obj[item] = s\n"
     ]
    }
   ],
   "source": [
    "res_1 = get_Beta(df_4_one,mean_4_one,std_4_one)\n",
    "res_2 = get_Beta(df_4_two,mean_4_two,std_4_two)\n",
    "res_3 = get_Beta(df_4_three,mean_4_three,std_4_three)\n",
    "res_4 = get_Beta(df_4_four,mean_4_four,std_4_four)"
   ]
  },
  {
   "cell_type": "code",
   "execution_count": 46,
   "metadata": {},
   "outputs": [
    {
     "data": {
      "text/plain": [
       "      fun: 13769.503055670977\n",
       " hess_inv: array([[ 3.55922994e-04,  1.53718615e-04, -1.83997204e-04,\n",
       "         1.02878530e-04, -4.72598459e-05, -1.32023599e-04,\n",
       "        -5.33858916e-05,  3.17387356e-04,  6.29731768e-05],\n",
       "       [ 1.53718615e-04,  4.38181716e-04, -1.72925957e-04,\n",
       "         1.22144257e-04,  9.03010873e-05,  3.51360778e-05,\n",
       "         2.63906559e-04, -3.95875700e-05,  2.38964707e-05],\n",
       "       [-1.83997204e-04, -1.72925957e-04,  3.13124429e-04,\n",
       "        -4.82958200e-05, -1.44001827e-04,  1.00355855e-04,\n",
       "        -2.99959854e-05, -2.22110453e-04, -1.27494707e-04],\n",
       "       [ 1.02878530e-04,  1.22144257e-04, -4.82958200e-05,\n",
       "         2.25263644e-04, -6.36662147e-05,  3.74582287e-05,\n",
       "        -9.91911570e-05,  2.80821578e-05,  7.31551780e-05],\n",
       "       [-4.72598459e-05,  9.03010873e-05, -1.44001827e-04,\n",
       "        -6.36662147e-05,  2.29110098e-04,  3.68546155e-05,\n",
       "        -3.48056740e-05,  7.68807205e-05,  3.17988063e-05],\n",
       "       [-1.32023599e-04,  3.51360778e-05,  1.00355855e-04,\n",
       "         3.74582287e-05,  3.68546155e-05,  1.41539548e-04,\n",
       "        -6.91535374e-05, -1.19684694e-04, -7.63564893e-05],\n",
       "       [-5.33858916e-05,  2.63906559e-04, -2.99959854e-05,\n",
       "        -9.91911570e-05, -3.48056740e-05, -6.91535374e-05,\n",
       "         7.53801074e-04, -4.18173120e-04,  1.25092697e-05],\n",
       "       [ 3.17387356e-04, -3.95875700e-05, -2.22110453e-04,\n",
       "         2.80821578e-05,  7.68807205e-05, -1.19684694e-04,\n",
       "        -4.18173120e-04,  5.64499537e-04,  3.32622774e-05],\n",
       "       [ 6.29731768e-05,  2.38964707e-05, -1.27494707e-04,\n",
       "         7.31551780e-05,  3.17988063e-05, -7.63564893e-05,\n",
       "         1.25092697e-05,  3.32622774e-05,  2.74287175e-04]])\n",
       "      jac: array([ 0.00134277, -0.0020752 ,  0.00524902,  0.00012207,  0.00354004,\n",
       "        0.00524902,  0.00695801,  0.00805664,  0.00793457])\n",
       "  message: 'Desired error not necessarily achieved due to precision loss.'\n",
       "     nfev: 595\n",
       "      nit: 28\n",
       "     njev: 54\n",
       "   status: 2\n",
       "  success: False\n",
       "        x: array([-1.59550736,  0.46089075,  0.11816455,  0.11046467,  0.0717849 ,\n",
       "        0.03798292, -0.05805397, -1.03614344,  0.17266994])"
      ]
     },
     "execution_count": 46,
     "metadata": {},
     "output_type": "execute_result"
    }
   ],
   "source": [
    "res_1"
   ]
  },
  {
   "cell_type": "code",
   "execution_count": 47,
   "metadata": {},
   "outputs": [
    {
     "data": {
      "text/plain": [
       "      fun: 1010.7210601094179\n",
       " hess_inv: array([[ 0.02218107, -0.05384471, -0.00510658,  0.03010834, -0.02788944,\n",
       "         0.02630274,  0.07033734,  0.01175199,  0.02527853],\n",
       "       [-0.05384471,  0.13374105,  0.01279464, -0.0753933 ,  0.07101132,\n",
       "        -0.0657801 , -0.17585405, -0.02910306, -0.06522286],\n",
       "       [-0.00510658,  0.01279464,  0.00183102, -0.00679731,  0.00618626,\n",
       "        -0.00666073, -0.0162846 , -0.0026312 , -0.0063262 ],\n",
       "       [ 0.03010834, -0.0753933 , -0.00679731,  0.04310424, -0.04116899,\n",
       "         0.03703269,  0.10004078,  0.01665646,  0.0374181 ],\n",
       "       [-0.02788944,  0.07101132,  0.00618626, -0.04116899,  0.04003879,\n",
       "        -0.03501402, -0.09517482, -0.01588423, -0.03635013],\n",
       "       [ 0.02630274, -0.0657801 , -0.00666073,  0.03703269, -0.03501402,\n",
       "         0.03274745,  0.0865023 ,  0.01432561,  0.03259572],\n",
       "       [ 0.07033734, -0.17585405, -0.0162846 ,  0.10004078, -0.09517482,\n",
       "         0.0865023 ,  0.23267264,  0.0386162 ,  0.08696181],\n",
       "       [ 0.01175199, -0.02910306, -0.0026312 ,  0.01665646, -0.01588423,\n",
       "         0.01432561,  0.0386162 ,  0.00657013,  0.01429126],\n",
       "       [ 0.02527853, -0.06522286, -0.0063262 ,  0.0374181 , -0.03635013,\n",
       "         0.03259572,  0.08696181,  0.01429126,  0.03407927]])\n",
       "      jac: array([ 3.81469727e-05,  6.86645508e-05,  6.10351562e-05,  8.39233398e-05,\n",
       "        1.22070312e-04,  7.62939453e-05,  1.06811523e-04,  4.57763672e-05,\n",
       "       -7.62939453e-06])\n",
       "  message: 'Desired error not necessarily achieved due to precision loss.'\n",
       "     nfev: 1287\n",
       "      nit: 31\n",
       "     njev: 116\n",
       "   status: 2\n",
       "  success: False\n",
       "        x: array([-1.94242923,  0.17459783,  0.06103661,  0.01711175, -0.14394501,\n",
       "        0.02369744, -0.14903244, -0.01516122,  0.14749104])"
      ]
     },
     "execution_count": 47,
     "metadata": {},
     "output_type": "execute_result"
    }
   ],
   "source": [
    "res_2"
   ]
  },
  {
   "cell_type": "code",
   "execution_count": 48,
   "metadata": {
    "scrolled": true
   },
   "outputs": [
    {
     "data": {
      "text/plain": [
       "      fun: 1924.8381386234362\n",
       " hess_inv: array([[ 2.70862211e-03, -2.96335126e-03, -1.92061192e-03,\n",
       "         8.65124036e-04,  2.07778445e-03,  7.52790624e-04,\n",
       "        -6.08464763e-04, -6.33168727e-04,  7.70147433e-04],\n",
       "       [-2.96335126e-03,  4.75455095e-03,  3.17684597e-03,\n",
       "        -1.20939756e-03, -2.19614063e-03, -1.66540300e-03,\n",
       "         7.15536101e-04, -8.94569206e-04, -8.76518330e-04],\n",
       "       [-1.92061192e-03,  3.17684597e-03,  2.79402968e-03,\n",
       "        -1.38735993e-03, -1.05933209e-03, -1.25687051e-03,\n",
       "         9.51163210e-04, -1.17069994e-03, -4.50982626e-04],\n",
       "       [ 8.65124036e-04, -1.20939756e-03, -1.38735993e-03,\n",
       "         1.00005631e-03,  4.51174155e-04,  3.64198878e-04,\n",
       "        -4.13776859e-04,  5.00539410e-04,  1.17194709e-04],\n",
       "       [ 2.07778445e-03, -2.19614063e-03, -1.05933209e-03,\n",
       "         4.51174155e-04,  2.31623850e-03,  5.86340944e-04,\n",
       "        -2.57442030e-05, -1.24649073e-03,  1.23021394e-04],\n",
       "       [ 7.52790624e-04, -1.66540300e-03, -1.25687051e-03,\n",
       "         3.64198878e-04,  5.86340944e-04,  1.16315948e-03,\n",
       "        -7.82016964e-04,  2.74986134e-04, -2.62220038e-04],\n",
       "       [-6.08464763e-04,  7.15536101e-04,  9.51163210e-04,\n",
       "        -4.13776859e-04, -2.57442030e-05, -7.82016964e-04,\n",
       "         1.24774324e-03,  2.07372105e-04,  1.92482895e-04],\n",
       "       [-6.33168727e-04, -8.94569206e-04, -1.17069994e-03,\n",
       "         5.00539410e-04, -1.24649073e-03,  2.74986134e-04,\n",
       "         2.07372105e-04,  3.12937968e-03,  6.08030051e-04],\n",
       "       [ 7.70147433e-04, -8.76518330e-04, -4.50982626e-04,\n",
       "         1.17194709e-04,  1.23021394e-04, -2.62220038e-04,\n",
       "         1.92482895e-04,  6.08030051e-04,  1.09583304e-03]])\n",
       "      jac: array([-2.44140625e-04,  7.62939453e-05,  4.11987305e-04,  2.44140625e-04,\n",
       "        2.74658203e-04,  1.22070312e-04, -1.52587891e-04,  6.10351562e-05,\n",
       "        2.74658203e-04])\n",
       "  message: 'Desired error not necessarily achieved due to precision loss.'\n",
       "     nfev: 496\n",
       "      nit: 31\n",
       "     njev: 45\n",
       "   status: 2\n",
       "  success: False\n",
       "        x: array([-2.20624549e+00,  3.38743861e-01,  1.13860140e-01,  1.37717589e-01,\n",
       "       -3.75356203e-03,  3.76205415e-02, -8.96334726e-02, -4.35882283e+00,\n",
       "        9.48561237e-02])"
      ]
     },
     "execution_count": 48,
     "metadata": {},
     "output_type": "execute_result"
    }
   ],
   "source": [
    "res_3"
   ]
  },
  {
   "cell_type": "code",
   "execution_count": 49,
   "metadata": {
    "scrolled": true
   },
   "outputs": [
    {
     "data": {
      "text/plain": [
       "      fun: 3792.7303370142813\n",
       " hess_inv: array([[ 3.96321489e-05, -7.46273431e-06,  3.37062120e-05,\n",
       "        -4.71875096e-05,  1.22402185e-05,  5.78237983e-05,\n",
       "        -6.06594191e-05,  3.60873722e-05,  1.53287264e-06],\n",
       "       [-7.46273431e-06,  2.01090963e-05, -1.64544748e-05,\n",
       "         2.78009861e-05, -2.70667004e-05, -4.31583003e-05,\n",
       "         2.73266721e-05, -1.79960640e-05,  1.45755491e-05],\n",
       "       [ 3.37062120e-05, -1.64544748e-05,  4.54727855e-05,\n",
       "        -6.30516762e-05,  2.89870215e-05,  8.57770975e-05,\n",
       "        -7.72660994e-05,  4.65436035e-05, -1.23028431e-05],\n",
       "       [-4.71875096e-05,  2.78009861e-05, -6.30516762e-05,\n",
       "         1.06098772e-04, -5.79359140e-05, -1.60345559e-04,\n",
       "         1.14835474e-04, -7.62615364e-05,  3.15056406e-05],\n",
       "       [ 1.22402185e-05, -2.70667004e-05,  2.89870215e-05,\n",
       "        -5.79359140e-05,  5.67911903e-05,  9.22783068e-05,\n",
       "        -4.88643635e-05,  3.40257893e-05, -3.60403490e-05],\n",
       "       [ 5.78237983e-05, -4.31583003e-05,  8.57770975e-05,\n",
       "        -1.60345559e-04,  9.22783068e-05,  2.82161859e-04,\n",
       "        -1.72460137e-04,  1.17597428e-04, -5.31365144e-05],\n",
       "       [-6.06594191e-05,  2.73266721e-05, -7.72660994e-05,\n",
       "         1.14835474e-04, -4.88643635e-05, -1.72460137e-04,\n",
       "         1.46548155e-04, -8.82753140e-05,  1.88677746e-05],\n",
       "       [ 3.60873722e-05, -1.79960640e-05,  4.65436035e-05,\n",
       "        -7.62615364e-05,  3.40257893e-05,  1.17597428e-04,\n",
       "        -8.82753140e-05,  6.43607903e-05, -2.05956562e-05],\n",
       "       [ 1.53287264e-06,  1.45755491e-05, -1.23028431e-05,\n",
       "         3.15056406e-05, -3.60403490e-05, -5.31365144e-05,\n",
       "         1.88677746e-05, -2.05956562e-05,  3.46457441e-05]])\n",
       "      jac: array([-0.00030518, -0.00027466, -0.00033569,  0.0005188 , -0.00015259,\n",
       "       -0.0005188 , -0.00027466,  0.00057983, -0.00015259])\n",
       "  message: 'Desired error not necessarily achieved due to precision loss.'\n",
       "     nfev: 913\n",
       "      nit: 44\n",
       "     njev: 82\n",
       "   status: 2\n",
       "  success: False\n",
       "        x: array([-2.44854238,  0.46847782,  0.13352973,  0.07686038, -0.03170865,\n",
       "        0.06867889, -0.07128673, -4.84973152,  0.13216368])"
      ]
     },
     "execution_count": 49,
     "metadata": {},
     "output_type": "execute_result"
    }
   ],
   "source": [
    "res_4"
   ]
  },
  {
   "cell_type": "code",
   "execution_count": 110,
   "metadata": {},
   "outputs": [],
   "source": [
    "mean_3cluster = []\n",
    "std_3cluster = []\n",
    "mean_3cluster.append(mean_3_one)\n",
    "mean_3cluster.append(mean_3_two)\n",
    "mean_3cluster.append(mean_3_three)\n",
    "std_3cluster.append(std_3_one)\n",
    "std_3cluster.append(std_3_two)\n",
    "std_3cluster.append(std_3_three)\n"
   ]
  },
  {
   "cell_type": "code",
   "execution_count": 111,
   "metadata": {},
   "outputs": [],
   "source": [
    "theta_3cluster = []\n",
    "theta_3cluster.append(df_3_one.shape[0] / data_3cluster.shape[0])\n",
    "theta_3cluster.append(df_3_two.shape[0] / data_3cluster.shape[0])\n",
    "theta_3cluster.append(df_3_three.shape[0] / data_3cluster.shape[0])"
   ]
  },
  {
   "cell_type": "code",
   "execution_count": 150,
   "metadata": {},
   "outputs": [
    {
     "data": {
      "text/plain": [
       "[0.8274742008640015, 0.1233326144213739, 0.04919318471462463]"
      ]
     },
     "execution_count": 150,
     "metadata": {},
     "output_type": "execute_result"
    }
   ],
   "source": [
    "theta_3cluster"
   ]
  },
  {
   "cell_type": "code",
   "execution_count": 112,
   "metadata": {},
   "outputs": [],
   "source": [
    "beta_3cluster = []\n",
    "beta_3cluster.append([-2.08215274,  0.42792156,  0.12208375,  0.11702509,  0.00999331,\n",
    "        0.04675314, -0.06323514, -0.99569225,  0.1493836 ])\n",
    "beta_3cluster.append([ 2.02049388,  0.58806615,  0.12565736,  0.11863238,  0.32397264,\n",
    "        0.0330871 ,  0.2062005 , -1.05314573,  0.18988912])\n",
    "beta_3cluster.append([ 1.83949155,  0.28127776,  0.10843109,  0.01705466,  0.16360347,\n",
    "        0.01680751, -0.24775001, -0.36514211,  0.19182447])"
   ]
  },
  {
   "cell_type": "code",
   "execution_count": 51,
   "metadata": {},
   "outputs": [],
   "source": [
    "mean_4cluster = []\n",
    "std_4cluster = []\n",
    "mean_4cluster.append(mean_4_one)\n",
    "mean_4cluster.append(mean_4_two)\n",
    "mean_4cluster.append(mean_4_three)\n",
    "mean_4cluster.append(mean_4_four)\n",
    "std_4cluster.append(std_4_one)\n",
    "std_4cluster.append(std_4_two)\n",
    "std_4cluster.append(std_4_three)\n",
    "std_4cluster.append(std_4_four)"
   ]
  },
  {
   "cell_type": "code",
   "execution_count": 52,
   "metadata": {},
   "outputs": [],
   "source": [
    "theta_4cluster = []\n",
    "theta_4cluster.append(df_4_one.shape[0] / data_4cluster.shape[0])\n",
    "theta_4cluster.append(df_4_two.shape[0] / data_4cluster.shape[0])\n",
    "theta_4cluster.append(df_4_three.shape[0] / data_4cluster.shape[0])\n",
    "theta_4cluster.append(df_4_four.shape[0] / data_4cluster.shape[0])"
   ]
  },
  {
   "cell_type": "code",
   "execution_count": 53,
   "metadata": {},
   "outputs": [],
   "source": [
    "beta_4cluster = []\n",
    "beta_4cluster.append([-1.59550736,  0.46089075,  0.11816455,  0.11046467,  0.0717849 ,\n",
    "        0.03798292, -0.05805397, -1.03614344,  0.17266994])\n",
    "beta_4cluster.append([-1.94242923,  0.17459783,  0.06103661,  0.01711175, -0.14394501,\n",
    "        0.02369744, -0.14903244, -0.01516122,  0.14749104])\n",
    "beta_4cluster.append([-2.20624549e+00,  3.38743861e-01,  1.13860140e-01,  1.37717589e-01,\n",
    "       -3.75356203e-03,  3.76205415e-02, -8.96334726e-02, -4.35882283e+00,\n",
    "        9.48561237e-02])\n",
    "beta_4cluster.append([-2.44854238,  0.46847782,  0.13352973,  0.07686038, -0.03170865,\n",
    "        0.06867889, -0.07128673, -4.84973152,  0.13216368])"
   ]
  },
  {
   "cell_type": "code",
   "execution_count": 169,
   "metadata": {},
   "outputs": [],
   "source": [
    "mean_spec_cluster = []\n",
    "std_spec_cluster = []\n",
    "mean_spec_cluster.append(mean_spec_one)\n",
    "mean_spec_cluster.append(mean_spec_two)\n",
    "mean_spec_cluster.append(mean_spec_three)\n",
    "mean_spec_cluster.append(mean_spec_four)\n",
    "std_spec_cluster.append(std_spec_one)\n",
    "std_spec_cluster.append(std_spec_two)\n",
    "std_spec_cluster.append(std_spec_three)\n",
    "std_spec_cluster.append(std_spec_four)"
   ]
  },
  {
   "cell_type": "code",
   "execution_count": 181,
   "metadata": {},
   "outputs": [],
   "source": [
    "beta_spec = []\n",
    "beta_spec.append([-1.59550736,  0.46089075,  0.11816455,  0.11046467,  0.0717849 ,\n",
    "        0.03798292, -0.05805397, -1.03614344,  0.17266994])\n",
    "beta_spec.append([-1.94242923,  0.17459783,  0.06103661,  0.01711175, -0.14394501,\n",
    "        0.02369744, -0.14903244, -0.01516122,  0.14749104])\n",
    "beta_spec.append([-2.32809247e+01,  1.91737735e-01,  4.06044319e-02,  3.73399985e-02,\n",
    "       -2.99671576e-01,  4.59778762e-03, -2.56169928e-01, -7.50579092e+01,\n",
    "        5.86493290e-02])\n",
    "beta_spec.append([-2.44854238,  0.46847782,  0.13352973,  0.07686038, -0.03170865,\n",
    "        0.06867889, -0.07128673, -4.84973152,  0.13216368])"
   ]
  },
  {
   "cell_type": "code",
   "execution_count": 231,
   "metadata": {},
   "outputs": [
    {
     "data": {
      "text/plain": [
       "[[-1.59550736,\n",
       "  0.46089075,\n",
       "  0.11816455,\n",
       "  0.11046467,\n",
       "  0.0717849,\n",
       "  0.03798292,\n",
       "  -0.05805397,\n",
       "  -1.03614344,\n",
       "  0.17266994],\n",
       " [-1.94242923,\n",
       "  0.17459783,\n",
       "  0.06103661,\n",
       "  0.01711175,\n",
       "  -0.14394501,\n",
       "  0.02369744,\n",
       "  -0.14903244,\n",
       "  -0.01516122,\n",
       "  0.14749104],\n",
       " [-23.2809247,\n",
       "  0.191737735,\n",
       "  0.0406044319,\n",
       "  0.0373399985,\n",
       "  -0.299671576,\n",
       "  0.00459778762,\n",
       "  -0.256169928,\n",
       "  -75.0579092,\n",
       "  0.058649329],\n",
       " [-2.44854238,\n",
       "  0.46847782,\n",
       "  0.13352973,\n",
       "  0.07686038,\n",
       "  -0.03170865,\n",
       "  0.06867889,\n",
       "  -0.07128673,\n",
       "  -4.84973152,\n",
       "  0.13216368]]"
      ]
     },
     "execution_count": 231,
     "metadata": {},
     "output_type": "execute_result"
    }
   ],
   "source": [
    "beta_spec"
   ]
  },
  {
   "cell_type": "code",
   "execution_count": 230,
   "metadata": {},
   "outputs": [
    {
     "data": {
      "text/plain": [
       "[0.12256141795580652,\n",
       " 0.018926991222738533,\n",
       " 0.040860341548536364,\n",
       " 0.8176512492729185]"
      ]
     },
     "execution_count": 230,
     "metadata": {},
     "output_type": "execute_result"
    }
   ],
   "source": [
    "theta_spec_cluster"
   ]
  },
  {
   "cell_type": "markdown",
   "metadata": {},
   "source": [
    "# Spec cluster"
   ]
  },
  {
   "cell_type": "markdown",
   "metadata": {},
   "source": [
    "# Assortment for unknown type"
   ]
  },
  {
   "cell_type": "code",
   "execution_count": 182,
   "metadata": {},
   "outputs": [
    {
     "name": "stdout",
     "output_type": "stream",
     "text": [
      "Problem solved in 99489.000000 milliseconds\n",
      "The objective value is  15.53181842459889\n"
     ]
    }
   ],
   "source": [
    "df = pd.read_csv('data1.csv')\n",
    "assortment1 = get_Assortment(df, mean_spec_cluster, std_spec_cluster, beta_spec, theta_spec_cluster)"
   ]
  },
  {
   "cell_type": "code",
   "execution_count": 183,
   "metadata": {},
   "outputs": [
    {
     "name": "stdout",
     "output_type": "stream",
     "text": [
      "Problem solved in 311111.000000 milliseconds\n",
      "The objective value is  18.937502974555137\n"
     ]
    }
   ],
   "source": [
    "df = pd.read_csv('data2.csv')\n",
    "assortment2 = get_Assortment(df, mean_spec_cluster, std_spec_cluster, beta_spec, theta_spec_cluster)"
   ]
  },
  {
   "cell_type": "code",
   "execution_count": 184,
   "metadata": {},
   "outputs": [
    {
     "name": "stdout",
     "output_type": "stream",
     "text": [
      "Problem solved in 70475.000000 milliseconds\n",
      "The objective value is  17.69125400447728\n"
     ]
    }
   ],
   "source": [
    "df = pd.read_csv('data3.csv')\n",
    "assortment3 = get_Assortment(df, mean_spec_cluster, std_spec_cluster, beta_spec, theta_spec_cluster)"
   ]
  },
  {
   "cell_type": "code",
   "execution_count": 185,
   "metadata": {},
   "outputs": [
    {
     "name": "stdout",
     "output_type": "stream",
     "text": [
      "Problem solved in 1195044.000000 milliseconds\n",
      "The objective value is  14.136094907811291\n"
     ]
    }
   ],
   "source": [
    "df = pd.read_csv('data4.csv')\n",
    "assortment4 = get_Assortment(df, mean_spec_cluster, std_spec_cluster, beta_spec, theta_spec_cluster)"
   ]
  },
  {
   "cell_type": "code",
   "execution_count": 186,
   "metadata": {},
   "outputs": [],
   "source": [
    "def get_unknown_type_Rev(assortment,df,mean,std,beta):\n",
    "    # need to use mean riginal and std original here\n",
    "    # use original beta here\n",
    "    for i in range(8):\n",
    "        df.iloc[:,i] = (df.iloc[:,i] - mean[i]) / std[i]\n",
    "    for i in range(len(assortment)):\n",
    "        if assortment[i] == 0:\n",
    "        #     temp_df = pd.DataFrame(data2_original.iloc[i], columns=['prop_starrating', 'prop_review_score', 'prop_brand_bool',\n",
    "        #    'prop_location_score', 'prop_accesibility_score',\n",
    "        #    'prop_log_historical_price', 'price_usd', 'promotion_flag'])\n",
    "        #     # data2_assotment = pd.concat([data2_assortment, temp_df])\n",
    "            # data2_assortment = data2_assortment.append(temp_df)\n",
    "            df = df.drop([i])\n",
    "    features = ['prop_starrating', 'prop_review_score', 'prop_brand_bool',\n",
    "           'prop_location_score', 'prop_accesibility_score',\n",
    "           'prop_log_historical_price', 'price_usd', 'promotion_flag']\n",
    "    original_mean = {}\n",
    "    original_std = {}\n",
    "    for i in range(len(features)):\n",
    "        original_mean[features[i]] = mean[i]\n",
    "        original_std[features[i]] = std[i]\n",
    "    def expected_revenue_original(df, beta):\n",
    "        num_hotel = df.shape[0]\n",
    "        base = 1\n",
    "        top = 0\n",
    "        for i in range(num_hotel):\n",
    "            u = 0\n",
    "            u += beta[0]\n",
    "            for j in range(1,9):\n",
    "                u += beta[j] * df.iloc[i][j-1]\n",
    "            # print(u)\n",
    "            v = np.exp(u) \n",
    "            base += v\n",
    "            p = df.iloc[i][-2] * original_std['price_usd'] + original_mean['price_usd']\n",
    "            top += v*p\n",
    "        expected_revenue = top / base \n",
    "        print('expected revenue is', expected_revenue)\n",
    "    expected_revenue_original(df, beta)"
   ]
  },
  {
   "cell_type": "code",
   "execution_count": 187,
   "metadata": {},
   "outputs": [],
   "source": [
    "# assortment for data1\n",
    "beta = [-1.74662743,  0.40812391,  0.10876074,  0.10138235,  0.02202491,\n",
    "        0.04344406, -0.06686938, -1.33110656,  0.15977641]"
   ]
  },
  {
   "cell_type": "markdown",
   "metadata": {},
   "source": [
    "# Data 1 for unknown type"
   ]
  },
  {
   "cell_type": "code",
   "execution_count": 188,
   "metadata": {},
   "outputs": [
    {
     "name": "stdout",
     "output_type": "stream",
     "text": [
      "expected revenue is 107.3396340843958\n"
     ]
    }
   ],
   "source": [
    "df = pd.read_csv('data1.csv')\n",
    "get_unknown_type_Rev(assortment1,df,mean_original,std_original,beta)"
   ]
  },
  {
   "cell_type": "markdown",
   "metadata": {},
   "source": [
    "# Data 2 for unknown type"
   ]
  },
  {
   "cell_type": "code",
   "execution_count": 189,
   "metadata": {},
   "outputs": [
    {
     "name": "stdout",
     "output_type": "stream",
     "text": [
      "expected revenue is 130.5562106874302\n"
     ]
    }
   ],
   "source": [
    "df = pd.read_csv('data2.csv')\n",
    "get_unknown_type_Rev(assortment2,df,mean_original,std_original,beta)"
   ]
  },
  {
   "cell_type": "markdown",
   "metadata": {},
   "source": [
    "# Data 3 for unknown type"
   ]
  },
  {
   "cell_type": "code",
   "execution_count": 190,
   "metadata": {},
   "outputs": [
    {
     "name": "stdout",
     "output_type": "stream",
     "text": [
      "expected revenue is 120.9612284936689\n"
     ]
    }
   ],
   "source": [
    "df = pd.read_csv('data3.csv')\n",
    "get_unknown_type_Rev(assortment3,df,mean_original,std_original,beta)"
   ]
  },
  {
   "cell_type": "markdown",
   "metadata": {},
   "source": [
    "# Data 4 for unknown type"
   ]
  },
  {
   "cell_type": "code",
   "execution_count": 191,
   "metadata": {},
   "outputs": [
    {
     "name": "stdout",
     "output_type": "stream",
     "text": [
      "expected revenue is 97.4088309422418\n"
     ]
    }
   ],
   "source": [
    "df = pd.read_csv('data4.csv')\n",
    "get_unknown_type_Rev(assortment4,df,mean_original,std_original,beta)"
   ]
  },
  {
   "cell_type": "code",
   "execution_count": 192,
   "metadata": {},
   "outputs": [],
   "source": [
    "def revenue(assortment, beta):\n",
    "\n",
    "    num_hotel = assortment.shape[0]\n",
    "\n",
    "    base = 1\n",
    "    top = 0\n",
    "\n",
    "    for i in range(num_hotel):\n",
    "\n",
    "        u = 0\n",
    "        u += beta[0]\n",
    "\n",
    "        for j in range(1,9):\n",
    "            u += beta[j] * assortment.iloc[i][j-1]\n",
    "\n",
    "        # print(u)\n",
    "            \n",
    "        v = np.exp(u) \n",
    "        base += v\n",
    "\n",
    "        p = assortment.iloc[i][-2]\n",
    "        top += v*p\n",
    "\n",
    "    expected_revenue = top / base \n",
    "\n",
    "    return expected_revenue\n",
    "def find_optimal(df,mean, std, beta):\n",
    "\n",
    "    for feature in new_features:\n",
    "        df[feature] = (df[feature] - mean[feature]) / std[feature]\n",
    "    # for i in range(len(new_features)):\n",
    "    #    df[new_features[i]] = (df[new_features[i]] - mean[i]) / std[i]\n",
    "    df = df.sort_values([\"price_usd\"],ascending=False)\n",
    "    sorted_df = df.reset_index(drop=True)\n",
    "    \n",
    "    num = sorted_df.shape[0]\n",
    "    revenue_list = []\n",
    "\n",
    "    for i in range(num):\n",
    "        assortment = sorted_df.head(i+1)\n",
    "        revenue_list.append(revenue(assortment,beta))\n",
    "\n",
    "\n",
    "    maximum = max(revenue_list)\n",
    "    for i in range(len(revenue_list)):\n",
    "        if revenue_list[i] == maximum:\n",
    "            print('The optimal assortment is a display of ', (i+1), ' highest priced products.') \n",
    "def expected_revenue(num, mean, std, df, beta):\n",
    "\n",
    "    optimal_assortment = df.head(num)\n",
    "\n",
    "    num_hotel = optimal_assortment.shape[0]\n",
    "\n",
    "    base = 1\n",
    "    top = 0\n",
    "\n",
    "    for i in range(num_hotel):\n",
    "\n",
    "        u = 0\n",
    "        u += beta[0]\n",
    "\n",
    "        for j in range(1,9):\n",
    "            u += beta[j] * optimal_assortment.iloc[i][j-1]\n",
    "\n",
    "        # print(u)\n",
    "            \n",
    "        v = np.exp(u) \n",
    "        base += v\n",
    "\n",
    "        p = optimal_assortment.iloc[i][-2] * std['price_usd'] + mean['price_usd']\n",
    "        top += v*p\n",
    "\n",
    "    expected_revenue = top / base \n",
    "\n",
    "\n",
    "    print('expected revenue is', expected_revenue)\n",
    "\n",
    "features = ['prop_starrating', 'prop_review_score', 'prop_brand_bool',\n",
    "       'prop_location_score', 'prop_accesibility_score',\n",
    "       'prop_log_historical_price', 'price_usd', 'promotion_flag']\n",
    "\n",
    "one_mean = {}\n",
    "one_std = {}\n",
    "two_mean = {}\n",
    "two_std = {}\n",
    "three_mean = {}\n",
    "three_std = {}\n",
    "four_mean = {}\n",
    "four_std = {}\n",
    "\n",
    "for i in range(len(features)):\n",
    "       \n",
    "    one_mean[features[i]] = mean_spec_one[i]\n",
    "    one_std[features[i]] = std_spec_one[i]\n",
    "    two_mean[features[i]] = mean_spec_two[i]\n",
    "    two_std[features[i]] = std_spec_two[i]\n",
    "    three_mean[features[i]] = mean_spec_three[i]\n",
    "    three_std[features[i]] = std_spec_three[i]\n",
    "    four_mean[features[i]] = mean_spec_four[i]\n",
    "    four_std[features[i]] = std_spec_four[i]\n",
    "\n",
    "new_features = ['prop_starrating', 'prop_review_score', 'prop_brand_bool',\n",
    "       'prop_location_score', 'prop_accesibility_score',\n",
    "       'prop_log_historical_price', 'price_usd', 'promotion_flag']"
   ]
  },
  {
   "cell_type": "markdown",
   "metadata": {},
   "source": [
    "# Data 1 when knowing the type"
   ]
  },
  {
   "cell_type": "code",
   "execution_count": 193,
   "metadata": {},
   "outputs": [
    {
     "name": "stdout",
     "output_type": "stream",
     "text": [
      "The optimal assortment is a display of  3  highest priced products.\n"
     ]
    }
   ],
   "source": [
    "data1 = pd.read_csv('data1.csv')\n",
    "find_optimal(data1, one_mean, one_std, beta_spec[0])"
   ]
  },
  {
   "cell_type": "code",
   "execution_count": 194,
   "metadata": {},
   "outputs": [
    {
     "name": "stdout",
     "output_type": "stream",
     "text": [
      "expected revenue is 50.22221267036282\n"
     ]
    }
   ],
   "source": [
    "expected_revenue(3, one_mean, one_std, data1, beta_spec[0])"
   ]
  },
  {
   "cell_type": "code",
   "execution_count": 195,
   "metadata": {},
   "outputs": [
    {
     "name": "stdout",
     "output_type": "stream",
     "text": [
      "The optimal assortment is a display of  1  highest priced products.\n"
     ]
    }
   ],
   "source": [
    "data2 = pd.read_csv('data1.csv')\n",
    "find_optimal(data2, two_mean, two_std, beta_spec[1])"
   ]
  },
  {
   "cell_type": "code",
   "execution_count": 196,
   "metadata": {},
   "outputs": [
    {
     "name": "stdout",
     "output_type": "stream",
     "text": [
      "expected revenue is 21.190809084136927\n"
     ]
    }
   ],
   "source": [
    "expected_revenue(1, two_mean, two_std, data2, beta_spec[1])"
   ]
  },
  {
   "cell_type": "code",
   "execution_count": 200,
   "metadata": {},
   "outputs": [
    {
     "name": "stdout",
     "output_type": "stream",
     "text": [
      "The optimal assortment is a display of  1  highest priced products.\n"
     ]
    }
   ],
   "source": [
    "data3 = pd.read_csv('data1.csv')\n",
    "find_optimal(data3, three_mean, three_std, beta_spec[2])"
   ]
  },
  {
   "cell_type": "code",
   "execution_count": 201,
   "metadata": {},
   "outputs": [
    {
     "name": "stdout",
     "output_type": "stream",
     "text": [
      "expected revenue is 3.0481028030790428e-06\n"
     ]
    }
   ],
   "source": [
    "expected_revenue(1, three_mean, three_std, data3, beta_spec[2])"
   ]
  },
  {
   "cell_type": "code",
   "execution_count": 202,
   "metadata": {},
   "outputs": [
    {
     "name": "stdout",
     "output_type": "stream",
     "text": [
      "The optimal assortment is a display of  8  highest priced products.\n"
     ]
    }
   ],
   "source": [
    "data4 = pd.read_csv('data1.csv')\n",
    "find_optimal(data4, four_mean, four_std, beta_spec[3])"
   ]
  },
  {
   "cell_type": "code",
   "execution_count": 203,
   "metadata": {},
   "outputs": [
    {
     "name": "stdout",
     "output_type": "stream",
     "text": [
      "expected revenue is 60.73677000846684\n"
     ]
    }
   ],
   "source": [
    "expected_revenue(8, four_mean, four_std, data4, beta_spec[3])"
   ]
  },
  {
   "cell_type": "markdown",
   "metadata": {},
   "source": [
    "# Data 2 when knowing the type"
   ]
  },
  {
   "cell_type": "code",
   "execution_count": 204,
   "metadata": {},
   "outputs": [
    {
     "name": "stdout",
     "output_type": "stream",
     "text": [
      "The optimal assortment is a display of  3  highest priced products.\n"
     ]
    }
   ],
   "source": [
    "data1 = pd.read_csv('data2.csv')\n",
    "find_optimal(data1, one_mean, one_std, beta_spec[0])"
   ]
  },
  {
   "cell_type": "code",
   "execution_count": 205,
   "metadata": {},
   "outputs": [
    {
     "name": "stdout",
     "output_type": "stream",
     "text": [
      "expected revenue is 95.2280514959225\n"
     ]
    }
   ],
   "source": [
    "expected_revenue(3, one_mean, one_std, data1, beta_spec[0])"
   ]
  },
  {
   "cell_type": "code",
   "execution_count": 206,
   "metadata": {},
   "outputs": [
    {
     "name": "stdout",
     "output_type": "stream",
     "text": [
      "The optimal assortment is a display of  3  highest priced products.\n"
     ]
    }
   ],
   "source": [
    "data2 = pd.read_csv('data2.csv')\n",
    "find_optimal(data2, two_mean, two_std, beta_spec[1])"
   ]
  },
  {
   "cell_type": "code",
   "execution_count": 207,
   "metadata": {},
   "outputs": [
    {
     "name": "stdout",
     "output_type": "stream",
     "text": [
      "expected revenue is 72.2625063412781\n"
     ]
    }
   ],
   "source": [
    "expected_revenue(3, two_mean, two_std, data2, beta_spec[1])"
   ]
  },
  {
   "cell_type": "code",
   "execution_count": 208,
   "metadata": {},
   "outputs": [
    {
     "name": "stdout",
     "output_type": "stream",
     "text": [
      "The optimal assortment is a display of  3  highest priced products.\n"
     ]
    }
   ],
   "source": [
    "data3 = pd.read_csv('data2.csv')\n",
    "find_optimal(data3, three_mean, three_std, beta_spec[2])"
   ]
  },
  {
   "cell_type": "code",
   "execution_count": 209,
   "metadata": {},
   "outputs": [
    {
     "name": "stdout",
     "output_type": "stream",
     "text": [
      "expected revenue is 4.717336156204596e-05\n"
     ]
    }
   ],
   "source": [
    "expected_revenue(3, three_mean, three_std, data3, beta_spec[2])"
   ]
  },
  {
   "cell_type": "code",
   "execution_count": 210,
   "metadata": {},
   "outputs": [
    {
     "name": "stdout",
     "output_type": "stream",
     "text": [
      "The optimal assortment is a display of  7  highest priced products.\n"
     ]
    }
   ],
   "source": [
    "data4 = pd.read_csv('data2.csv')\n",
    "find_optimal(data4, four_mean, four_std, beta_spec[3])"
   ]
  },
  {
   "cell_type": "code",
   "execution_count": 211,
   "metadata": {},
   "outputs": [
    {
     "name": "stdout",
     "output_type": "stream",
     "text": [
      "expected revenue is 80.9750431152258\n"
     ]
    }
   ],
   "source": [
    "expected_revenue(7, four_mean, four_std, data4, beta_spec[3])"
   ]
  },
  {
   "cell_type": "markdown",
   "metadata": {},
   "source": [
    "# Data 3 when knowing the type"
   ]
  },
  {
   "cell_type": "code",
   "execution_count": 212,
   "metadata": {},
   "outputs": [
    {
     "name": "stdout",
     "output_type": "stream",
     "text": [
      "The optimal assortment is a display of  8  highest priced products.\n"
     ]
    }
   ],
   "source": [
    "data1 = pd.read_csv('data3.csv')\n",
    "find_optimal(data1, one_mean, one_std, beta_spec[0])"
   ]
  },
  {
   "cell_type": "code",
   "execution_count": 213,
   "metadata": {},
   "outputs": [
    {
     "name": "stdout",
     "output_type": "stream",
     "text": [
      "expected revenue is 102.53211015470683\n"
     ]
    }
   ],
   "source": [
    "expected_revenue(8, one_mean, one_std, data1, beta_spec[0])"
   ]
  },
  {
   "cell_type": "code",
   "execution_count": 214,
   "metadata": {},
   "outputs": [
    {
     "name": "stdout",
     "output_type": "stream",
     "text": [
      "The optimal assortment is a display of  2  highest priced products.\n"
     ]
    }
   ],
   "source": [
    "data2 = pd.read_csv('data3.csv')\n",
    "find_optimal(data2, two_mean, two_std, beta_spec[1])"
   ]
  },
  {
   "cell_type": "code",
   "execution_count": 215,
   "metadata": {},
   "outputs": [
    {
     "name": "stdout",
     "output_type": "stream",
     "text": [
      "expected revenue is 39.73228698385515\n"
     ]
    }
   ],
   "source": [
    "expected_revenue(2, two_mean, two_std, data2, beta_spec[1])"
   ]
  },
  {
   "cell_type": "code",
   "execution_count": 216,
   "metadata": {},
   "outputs": [
    {
     "name": "stdout",
     "output_type": "stream",
     "text": [
      "The optimal assortment is a display of  3  highest priced products.\n"
     ]
    }
   ],
   "source": [
    "data3 = pd.read_csv('data3.csv')\n",
    "find_optimal(data3, three_mean, three_std, beta_spec[2])"
   ]
  },
  {
   "cell_type": "code",
   "execution_count": 217,
   "metadata": {},
   "outputs": [
    {
     "name": "stdout",
     "output_type": "stream",
     "text": [
      "expected revenue is 8.2158780216051e-06\n"
     ]
    }
   ],
   "source": [
    "expected_revenue(3, three_mean, three_std, data3, beta_spec[2])"
   ]
  },
  {
   "cell_type": "code",
   "execution_count": 220,
   "metadata": {},
   "outputs": [
    {
     "name": "stdout",
     "output_type": "stream",
     "text": [
      "The optimal assortment is a display of  12  highest priced products.\n"
     ]
    }
   ],
   "source": [
    "data4 = pd.read_csv('data3.csv')\n",
    "find_optimal(data4, four_mean, four_std, beta_spec[3])"
   ]
  },
  {
   "cell_type": "code",
   "execution_count": 221,
   "metadata": {},
   "outputs": [
    {
     "name": "stdout",
     "output_type": "stream",
     "text": [
      "expected revenue is 63.03778328790421\n"
     ]
    }
   ],
   "source": [
    "expected_revenue(12, four_mean, four_std, data4, beta_spec[3])"
   ]
  },
  {
   "cell_type": "markdown",
   "metadata": {},
   "source": [
    "# Data 4 when knowing the type"
   ]
  },
  {
   "cell_type": "code",
   "execution_count": 222,
   "metadata": {},
   "outputs": [
    {
     "name": "stdout",
     "output_type": "stream",
     "text": [
      "The optimal assortment is a display of  1  highest priced products.\n"
     ]
    }
   ],
   "source": [
    "data1 = pd.read_csv('data4.csv')\n",
    "find_optimal(data1, one_mean, one_std, beta_spec[0])"
   ]
  },
  {
   "cell_type": "code",
   "execution_count": 223,
   "metadata": {},
   "outputs": [
    {
     "name": "stdout",
     "output_type": "stream",
     "text": [
      "expected revenue is 36.688574026859406\n"
     ]
    }
   ],
   "source": [
    "expected_revenue(1, one_mean, one_std, data1, beta_spec[0])"
   ]
  },
  {
   "cell_type": "code",
   "execution_count": 224,
   "metadata": {
    "scrolled": true
   },
   "outputs": [
    {
     "name": "stdout",
     "output_type": "stream",
     "text": [
      "The optimal assortment is a display of  1  highest priced products.\n"
     ]
    }
   ],
   "source": [
    "data2 = pd.read_csv('data4.csv')\n",
    "find_optimal(data2, two_mean, two_std, beta_spec[1])"
   ]
  },
  {
   "cell_type": "code",
   "execution_count": 225,
   "metadata": {},
   "outputs": [
    {
     "name": "stdout",
     "output_type": "stream",
     "text": [
      "expected revenue is 19.756013117429823\n"
     ]
    }
   ],
   "source": [
    "expected_revenue(1, two_mean, two_std, data2, beta_spec[1])"
   ]
  },
  {
   "cell_type": "code",
   "execution_count": 226,
   "metadata": {},
   "outputs": [
    {
     "name": "stdout",
     "output_type": "stream",
     "text": [
      "The optimal assortment is a display of  1  highest priced products.\n"
     ]
    }
   ],
   "source": [
    "data3 = pd.read_csv('data4.csv')\n",
    "find_optimal(data3, three_mean, three_std, beta_spec[2])"
   ]
  },
  {
   "cell_type": "code",
   "execution_count": 227,
   "metadata": {},
   "outputs": [
    {
     "name": "stdout",
     "output_type": "stream",
     "text": [
      "expected revenue is 0.009354698538806955\n"
     ]
    }
   ],
   "source": [
    "expected_revenue(1, three_mean, three_std, data3, beta_spec[2])"
   ]
  },
  {
   "cell_type": "code",
   "execution_count": 228,
   "metadata": {},
   "outputs": [
    {
     "name": "stdout",
     "output_type": "stream",
     "text": [
      "The optimal assortment is a display of  3  highest priced products.\n"
     ]
    }
   ],
   "source": [
    "data4 = pd.read_csv('data4.csv')\n",
    "find_optimal(data4, four_mean, four_std, beta_spec[3])"
   ]
  },
  {
   "cell_type": "code",
   "execution_count": 229,
   "metadata": {},
   "outputs": [
    {
     "name": "stdout",
     "output_type": "stream",
     "text": [
      "expected revenue is 57.48420476680186\n"
     ]
    }
   ],
   "source": [
    "expected_revenue(3, four_mean, four_std, data4, beta_spec[3])"
   ]
  },
  {
   "cell_type": "markdown",
   "metadata": {},
   "source": [
    "# 3 cluster"
   ]
  },
  {
   "cell_type": "markdown",
   "metadata": {},
   "source": [
    "# Assortment for unknown type "
   ]
  },
  {
   "cell_type": "code",
   "execution_count": 113,
   "metadata": {},
   "outputs": [
    {
     "name": "stdout",
     "output_type": "stream",
     "text": [
      "Problem solved in 439574.000000 milliseconds\n",
      "The objective value is  98.98910373709943\n"
     ]
    },
    {
     "data": {
      "text/plain": [
       "[1.0,\n",
       " 1.0,\n",
       " 1.0,\n",
       " 1.0,\n",
       " 1.0,\n",
       " 1.0,\n",
       " 1.0,\n",
       " 0.0,\n",
       " 0.0,\n",
       " 1.0,\n",
       " 0.0,\n",
       " 0.0,\n",
       " 1.0,\n",
       " 0.0,\n",
       " 1.0,\n",
       " 1.0,\n",
       " 1.0,\n",
       " 1.0,\n",
       " 1.0,\n",
       " 1.0,\n",
       " 1.0,\n",
       " 1.0,\n",
       " 1.0,\n",
       " 1.0,\n",
       " 1.0,\n",
       " 0.0,\n",
       " 1.0]"
      ]
     },
     "execution_count": 113,
     "metadata": {},
     "output_type": "execute_result"
    }
   ],
   "source": [
    "df = pd.read_csv('data1.csv')\n",
    "assortment1 = get_Assortment(df, mean_3cluster, std_3cluster, beta_3cluster, theta_3cluster)\n",
    "assortment1"
   ]
  },
  {
   "cell_type": "code",
   "execution_count": 114,
   "metadata": {},
   "outputs": [
    {
     "name": "stdout",
     "output_type": "stream",
     "text": [
      "Problem solved in 1460046.000000 milliseconds\n",
      "The objective value is  118.6764664612857\n"
     ]
    },
    {
     "data": {
      "text/plain": [
       "[1.0,\n",
       " 1.0,\n",
       " 0.0,\n",
       " 0.0,\n",
       " 0.0,\n",
       " 0.0,\n",
       " 1.0,\n",
       " 1.0,\n",
       " 1.0,\n",
       " 1.0,\n",
       " 1.0,\n",
       " 0.0,\n",
       " 0.0,\n",
       " 0.0,\n",
       " 0.0,\n",
       " 0.0,\n",
       " 0.0,\n",
       " 0.0,\n",
       " 0.0,\n",
       " 0.0,\n",
       " 0.0,\n",
       " 1.0,\n",
       " 0.0,\n",
       " 1.0,\n",
       " 0.0,\n",
       " 1.0,\n",
       " 0.0,\n",
       " 0.0,\n",
       " 0.0]"
      ]
     },
     "execution_count": 114,
     "metadata": {},
     "output_type": "execute_result"
    }
   ],
   "source": [
    "df = pd.read_csv('data2.csv')\n",
    "assortment2 = get_Assortment(df, mean_3cluster, std_3cluster, beta_3cluster, theta_3cluster)\n",
    "assortment2"
   ]
  },
  {
   "cell_type": "code",
   "execution_count": 115,
   "metadata": {},
   "outputs": [
    {
     "name": "stdout",
     "output_type": "stream",
     "text": [
      "Problem solved in 173568.000000 milliseconds\n",
      "The objective value is  108.94736733644243\n"
     ]
    },
    {
     "data": {
      "text/plain": [
       "[1.0,\n",
       " 1.0,\n",
       " 1.0,\n",
       " 1.0,\n",
       " 1.0,\n",
       " 1.0,\n",
       " 0.0,\n",
       " 1.0,\n",
       " 1.0,\n",
       " 0.0,\n",
       " 1.0,\n",
       " 1.0,\n",
       " 0.0,\n",
       " 1.0,\n",
       " 1.0,\n",
       " 1.0,\n",
       " 1.0,\n",
       " 0.0,\n",
       " 1.0,\n",
       " 1.0,\n",
       " 0.0,\n",
       " 0.0,\n",
       " 0.0,\n",
       " 1.0,\n",
       " 1.0,\n",
       " 1.0]"
      ]
     },
     "execution_count": 115,
     "metadata": {},
     "output_type": "execute_result"
    }
   ],
   "source": [
    "df = pd.read_csv('data3.csv')\n",
    "assortment3 = get_Assortment(df, mean_3cluster, std_3cluster, beta_3cluster, theta_3cluster)\n",
    "assortment3"
   ]
  },
  {
   "cell_type": "code",
   "execution_count": 116,
   "metadata": {},
   "outputs": [
    {
     "name": "stdout",
     "output_type": "stream",
     "text": [
      "Problem solved in 216319.000000 milliseconds\n",
      "The objective value is  88.8759555918848\n"
     ]
    },
    {
     "data": {
      "text/plain": [
       "[0.0,\n",
       " 0.0,\n",
       " 0.0,\n",
       " 1.0,\n",
       " 1.0,\n",
       " 0.0,\n",
       " 1.0,\n",
       " 0.0,\n",
       " 1.0,\n",
       " 0.0,\n",
       " 1.0,\n",
       " 0.0,\n",
       " 0.0,\n",
       " 0.0,\n",
       " 0.0,\n",
       " 1.0,\n",
       " 0.0,\n",
       " 0.0,\n",
       " 1.0,\n",
       " 1.0,\n",
       " 1.0,\n",
       " 1.0,\n",
       " 0.0,\n",
       " 0.0,\n",
       " 0.0,\n",
       " 0.0,\n",
       " 1.0]"
      ]
     },
     "execution_count": 116,
     "metadata": {},
     "output_type": "execute_result"
    }
   ],
   "source": [
    "df = pd.read_csv('data4.csv')\n",
    "assortment4 = get_Assortment(df, mean_3cluster, std_3cluster, beta_3cluster, theta_3cluster)\n",
    "assortment4"
   ]
  },
  {
   "cell_type": "code",
   "execution_count": 117,
   "metadata": {},
   "outputs": [],
   "source": [
    "def get_unknown_type_Rev(assortment,df,mean,std,beta):\n",
    "    # need to use mean riginal and std original here\n",
    "    # use original beta here\n",
    "    for i in range(8):\n",
    "        df.iloc[:,i] = (df.iloc[:,i] - mean[i]) / std[i]\n",
    "    for i in range(len(assortment)):\n",
    "        if assortment[i] == 0:\n",
    "        #     temp_df = pd.DataFrame(data2_original.iloc[i], columns=['prop_starrating', 'prop_review_score', 'prop_brand_bool',\n",
    "        #    'prop_location_score', 'prop_accesibility_score',\n",
    "        #    'prop_log_historical_price', 'price_usd', 'promotion_flag'])\n",
    "        #     # data2_assotment = pd.concat([data2_assortment, temp_df])\n",
    "            # data2_assortment = data2_assortment.append(temp_df)\n",
    "            df = df.drop([i])\n",
    "    features = ['prop_starrating', 'prop_review_score', 'prop_brand_bool',\n",
    "           'prop_location_score', 'prop_accesibility_score',\n",
    "           'prop_log_historical_price', 'price_usd', 'promotion_flag']\n",
    "    original_mean = {}\n",
    "    original_std = {}\n",
    "    for i in range(len(features)):\n",
    "        original_mean[features[i]] = mean[i]\n",
    "        original_std[features[i]] = std[i]\n",
    "    def expected_revenue_original(df, beta):\n",
    "        num_hotel = df.shape[0]\n",
    "        base = 1\n",
    "        top = 0\n",
    "        for i in range(num_hotel):\n",
    "            u = 0\n",
    "            u += beta[0]\n",
    "            for j in range(1,9):\n",
    "                u += beta[j] * df.iloc[i][j-1]\n",
    "            # print(u)\n",
    "            v = np.exp(u) \n",
    "            base += v\n",
    "            p = df.iloc[i][-2] * original_std['price_usd'] + original_mean['price_usd']\n",
    "            top += v*p\n",
    "        expected_revenue = top / base \n",
    "        print('expected revenue is', expected_revenue)\n",
    "    expected_revenue_original(df, beta)"
   ]
  },
  {
   "cell_type": "code",
   "execution_count": 118,
   "metadata": {},
   "outputs": [],
   "source": [
    "beta = [-1.74662743,  0.40812391,  0.10876074,  0.10138235,  0.02202491,\n",
    "        0.04344406, -0.06686938, -1.33110656,  0.15977641]"
   ]
  },
  {
   "cell_type": "markdown",
   "metadata": {},
   "source": [
    "# Data 1 for unknown type"
   ]
  },
  {
   "cell_type": "code",
   "execution_count": 119,
   "metadata": {},
   "outputs": [
    {
     "name": "stdout",
     "output_type": "stream",
     "text": [
      "expected revenue is 107.29109444913811\n"
     ]
    }
   ],
   "source": [
    "df = pd.read_csv('data1.csv')\n",
    "get_unknown_type_Rev(assortment1,df,mean_original,std_original,beta)"
   ]
  },
  {
   "cell_type": "markdown",
   "metadata": {},
   "source": [
    "# Data 2 for unknown type"
   ]
  },
  {
   "cell_type": "code",
   "execution_count": 120,
   "metadata": {},
   "outputs": [
    {
     "name": "stdout",
     "output_type": "stream",
     "text": [
      "expected revenue is 131.11344212920363\n"
     ]
    }
   ],
   "source": [
    "df = pd.read_csv('data2.csv')\n",
    "get_unknown_type_Rev(assortment2,df,mean_original,std_original,beta)"
   ]
  },
  {
   "cell_type": "markdown",
   "metadata": {},
   "source": [
    "# Data 3 for unknown type"
   ]
  },
  {
   "cell_type": "code",
   "execution_count": 121,
   "metadata": {},
   "outputs": [
    {
     "name": "stdout",
     "output_type": "stream",
     "text": [
      "expected revenue is 121.01835939563993\n"
     ]
    }
   ],
   "source": [
    "df = pd.read_csv('data3.csv')\n",
    "get_unknown_type_Rev(assortment3,df,mean_original,std_original,beta)"
   ]
  },
  {
   "cell_type": "markdown",
   "metadata": {},
   "source": [
    "# Data 4 for unknown type"
   ]
  },
  {
   "cell_type": "code",
   "execution_count": 122,
   "metadata": {},
   "outputs": [
    {
     "name": "stdout",
     "output_type": "stream",
     "text": [
      "expected revenue is 97.4088309422418\n"
     ]
    }
   ],
   "source": [
    "df = pd.read_csv('data4.csv')\n",
    "get_unknown_type_Rev(assortment4,df,mean_original,std_original,beta)"
   ]
  },
  {
   "cell_type": "code",
   "execution_count": 123,
   "metadata": {},
   "outputs": [],
   "source": [
    "def revenue(assortment, beta):\n",
    "\n",
    "    num_hotel = assortment.shape[0]\n",
    "\n",
    "    base = 1\n",
    "    top = 0\n",
    "\n",
    "    for i in range(num_hotel):\n",
    "\n",
    "        u = 0\n",
    "        u += beta[0]\n",
    "\n",
    "        for j in range(1,9):\n",
    "            u += beta[j] * assortment.iloc[i][j-1]\n",
    "\n",
    "        # print(u)\n",
    "            \n",
    "        v = np.exp(u) \n",
    "        base += v\n",
    "\n",
    "        p = assortment.iloc[i][-2]\n",
    "        top += v*p\n",
    "\n",
    "    expected_revenue = top / base \n",
    "\n",
    "    return expected_revenue\n",
    "def find_optimal(df,mean, std, beta):\n",
    "\n",
    "    for feature in new_features:\n",
    "        df[feature] = (df[feature] - mean[feature]) / std[feature]\n",
    "    # for i in range(len(new_features)):\n",
    "    #    df[new_features[i]] = (df[new_features[i]] - mean[i]) / std[i]\n",
    "    df = df.sort_values([\"price_usd\"],ascending=False)\n",
    "    sorted_df = df.reset_index(drop=True)\n",
    "    \n",
    "    num = sorted_df.shape[0]\n",
    "    revenue_list = []\n",
    "\n",
    "    for i in range(num):\n",
    "        assortment = sorted_df.head(i+1)\n",
    "        revenue_list.append(revenue(assortment,beta))\n",
    "\n",
    "\n",
    "    maximum = max(revenue_list)\n",
    "    for i in range(len(revenue_list)):\n",
    "        if revenue_list[i] == maximum:\n",
    "            print('The optimal assortment is a display of ', (i+1), ' highest priced products.') \n",
    "def expected_revenue(num, mean, std, df, beta):\n",
    "\n",
    "    optimal_assortment = df.head(num)\n",
    "\n",
    "    num_hotel = optimal_assortment.shape[0]\n",
    "\n",
    "    base = 1\n",
    "    top = 0\n",
    "\n",
    "    for i in range(num_hotel):\n",
    "\n",
    "        u = 0\n",
    "        u += beta[0]\n",
    "\n",
    "        for j in range(1,9):\n",
    "            u += beta[j] * optimal_assortment.iloc[i][j-1]\n",
    "\n",
    "        # print(u)\n",
    "            \n",
    "        v = np.exp(u) \n",
    "        base += v\n",
    "\n",
    "        p = optimal_assortment.iloc[i][-2] * std['price_usd'] + mean['price_usd']\n",
    "        top += v*p\n",
    "\n",
    "    expected_revenue = top / base \n",
    "\n",
    "\n",
    "    print('expected revenue is', expected_revenue)\n",
    "\n",
    "features = ['prop_starrating', 'prop_review_score', 'prop_brand_bool',\n",
    "       'prop_location_score', 'prop_accesibility_score',\n",
    "       'prop_log_historical_price', 'price_usd', 'promotion_flag']\n",
    "\n",
    "one_mean = {}\n",
    "one_std = {}\n",
    "two_mean = {}\n",
    "two_std = {}\n",
    "three_mean = {}\n",
    "three_std = {}\n",
    "\n",
    "\n",
    "for i in range(len(features)):\n",
    "       \n",
    "    one_mean[features[i]] = mean_3_one[i]\n",
    "    one_std[features[i]] = std_3_one[i]\n",
    "    two_mean[features[i]] = mean_3_two[i]\n",
    "    two_std[features[i]] = std_3_two[i]\n",
    "    three_mean[features[i]] = mean_3_three[i]\n",
    "    three_std[features[i]] = std_3_three[i]\n",
    "\n",
    "\n",
    "new_features = ['prop_starrating', 'prop_review_score', 'prop_brand_bool',\n",
    "       'prop_location_score', 'prop_accesibility_score',\n",
    "       'prop_log_historical_price', 'price_usd', 'promotion_flag']"
   ]
  },
  {
   "cell_type": "markdown",
   "metadata": {},
   "source": [
    "# Data 1 when knowing the type"
   ]
  },
  {
   "cell_type": "code",
   "execution_count": 124,
   "metadata": {},
   "outputs": [
    {
     "name": "stdout",
     "output_type": "stream",
     "text": [
      "The optimal assortment is a display of  7  highest priced products.\n"
     ]
    }
   ],
   "source": [
    "data1 = pd.read_csv('data1.csv')\n",
    "find_optimal(data1, one_mean, one_std, beta_3cluster[0])"
   ]
  },
  {
   "cell_type": "code",
   "execution_count": 125,
   "metadata": {},
   "outputs": [
    {
     "name": "stdout",
     "output_type": "stream",
     "text": [
      "expected revenue is 67.21104633429165\n"
     ]
    }
   ],
   "source": [
    "expected_revenue(7, one_mean, one_std, data1, beta_3cluster[0])"
   ]
  },
  {
   "cell_type": "code",
   "execution_count": 126,
   "metadata": {},
   "outputs": [
    {
     "name": "stdout",
     "output_type": "stream",
     "text": [
      "The optimal assortment is a display of  1  highest priced products.\n"
     ]
    }
   ],
   "source": [
    "data2 = pd.read_csv('data1.csv')\n",
    "find_optimal(data2, two_mean, two_std, beta_3cluster[1])"
   ]
  },
  {
   "cell_type": "code",
   "execution_count": 127,
   "metadata": {},
   "outputs": [
    {
     "name": "stdout",
     "output_type": "stream",
     "text": [
      "expected revenue is 116.46530195541274\n"
     ]
    }
   ],
   "source": [
    "expected_revenue(1, two_mean, two_std, data2, beta_3cluster[1])"
   ]
  },
  {
   "cell_type": "code",
   "execution_count": 128,
   "metadata": {},
   "outputs": [
    {
     "name": "stdout",
     "output_type": "stream",
     "text": [
      "The optimal assortment is a display of  1  highest priced products.\n"
     ]
    }
   ],
   "source": [
    "data3 = pd.read_csv('data1.csv')\n",
    "find_optimal(data3, three_mean, three_std, beta_3cluster[2])"
   ]
  },
  {
   "cell_type": "code",
   "execution_count": 129,
   "metadata": {},
   "outputs": [
    {
     "name": "stdout",
     "output_type": "stream",
     "text": [
      "expected revenue is 118.61326728080468\n"
     ]
    }
   ],
   "source": [
    "expected_revenue(1, three_mean, three_std, data3, beta_3cluster[2])"
   ]
  },
  {
   "cell_type": "markdown",
   "metadata": {},
   "source": [
    "# Data 2 when knowing the type"
   ]
  },
  {
   "cell_type": "code",
   "execution_count": 130,
   "metadata": {},
   "outputs": [
    {
     "name": "stdout",
     "output_type": "stream",
     "text": [
      "The optimal assortment is a display of  3  highest priced products.\n"
     ]
    }
   ],
   "source": [
    "data1 = pd.read_csv('data2.csv')\n",
    "find_optimal(data1, one_mean, one_std, beta_3cluster[0])"
   ]
  },
  {
   "cell_type": "code",
   "execution_count": 131,
   "metadata": {},
   "outputs": [
    {
     "name": "stdout",
     "output_type": "stream",
     "text": [
      "expected revenue is 71.30801404477035\n"
     ]
    }
   ],
   "source": [
    "expected_revenue(3, one_mean, one_std, data1, beta_3cluster[0])"
   ]
  },
  {
   "cell_type": "code",
   "execution_count": 132,
   "metadata": {},
   "outputs": [
    {
     "name": "stdout",
     "output_type": "stream",
     "text": [
      "The optimal assortment is a display of  1  highest priced products.\n"
     ]
    }
   ],
   "source": [
    "data2 = pd.read_csv('data2.csv')\n",
    "find_optimal(data2, two_mean, two_std, beta_3cluster[1])"
   ]
  },
  {
   "cell_type": "code",
   "execution_count": 134,
   "metadata": {},
   "outputs": [
    {
     "name": "stdout",
     "output_type": "stream",
     "text": [
      "expected revenue is 215.10739040432304\n"
     ]
    }
   ],
   "source": [
    "expected_revenue(1, two_mean, two_std, data2, beta_3cluster[1])"
   ]
  },
  {
   "cell_type": "code",
   "execution_count": 135,
   "metadata": {},
   "outputs": [
    {
     "name": "stdout",
     "output_type": "stream",
     "text": [
      "The optimal assortment is a display of  1  highest priced products.\n"
     ]
    }
   ],
   "source": [
    "data3 = pd.read_csv('data2.csv')\n",
    "find_optimal(data3, three_mean, three_std, beta_3cluster[2])"
   ]
  },
  {
   "cell_type": "code",
   "execution_count": 136,
   "metadata": {},
   "outputs": [
    {
     "name": "stdout",
     "output_type": "stream",
     "text": [
      "expected revenue is 225.19728779793326\n"
     ]
    }
   ],
   "source": [
    "expected_revenue(1, three_mean, three_std, data3, beta_3cluster[2])"
   ]
  },
  {
   "cell_type": "markdown",
   "metadata": {},
   "source": [
    "# Data 3 when knowing the type"
   ]
  },
  {
   "cell_type": "code",
   "execution_count": 137,
   "metadata": {},
   "outputs": [
    {
     "name": "stdout",
     "output_type": "stream",
     "text": [
      "The optimal assortment is a display of  9  highest priced products.\n"
     ]
    }
   ],
   "source": [
    "data1 = pd.read_csv('data3.csv')\n",
    "find_optimal(data1, one_mean, one_std, beta_3cluster[0])"
   ]
  },
  {
   "cell_type": "code",
   "execution_count": 138,
   "metadata": {},
   "outputs": [
    {
     "name": "stdout",
     "output_type": "stream",
     "text": [
      "expected revenue is 84.39048093239713\n"
     ]
    }
   ],
   "source": [
    "expected_revenue(9, one_mean, one_std, data1, beta_3cluster[0])"
   ]
  },
  {
   "cell_type": "code",
   "execution_count": 139,
   "metadata": {},
   "outputs": [
    {
     "name": "stdout",
     "output_type": "stream",
     "text": [
      "The optimal assortment is a display of  2  highest priced products.\n"
     ]
    }
   ],
   "source": [
    "data2 = pd.read_csv('data3.csv')\n",
    "find_optimal(data2, two_mean, two_std, beta_3cluster[1])"
   ]
  },
  {
   "cell_type": "code",
   "execution_count": 140,
   "metadata": {},
   "outputs": [
    {
     "name": "stdout",
     "output_type": "stream",
     "text": [
      "expected revenue is 146.67162852755308\n"
     ]
    }
   ],
   "source": [
    "expected_revenue(2, two_mean, two_std, data2, beta_3cluster[1])"
   ]
  },
  {
   "cell_type": "code",
   "execution_count": 141,
   "metadata": {},
   "outputs": [
    {
     "name": "stdout",
     "output_type": "stream",
     "text": [
      "The optimal assortment is a display of  1  highest priced products.\n"
     ]
    }
   ],
   "source": [
    "data3 = pd.read_csv('data3.csv')\n",
    "find_optimal(data3, three_mean, three_std, beta_3cluster[2])"
   ]
  },
  {
   "cell_type": "code",
   "execution_count": 142,
   "metadata": {},
   "outputs": [
    {
     "name": "stdout",
     "output_type": "stream",
     "text": [
      "expected revenue is 119.96921028047899\n"
     ]
    }
   ],
   "source": [
    "expected_revenue(1, three_mean, three_std, data3, beta_3cluster[2])"
   ]
  },
  {
   "cell_type": "markdown",
   "metadata": {},
   "source": [
    "# Data 4 when knowing the type"
   ]
  },
  {
   "cell_type": "code",
   "execution_count": 143,
   "metadata": {},
   "outputs": [
    {
     "name": "stdout",
     "output_type": "stream",
     "text": [
      "The optimal assortment is a display of  2  highest priced products.\n"
     ]
    }
   ],
   "source": [
    "data1 = pd.read_csv('data4.csv')\n",
    "find_optimal(data1, one_mean, one_std, beta_3cluster[0])"
   ]
  },
  {
   "cell_type": "code",
   "execution_count": 144,
   "metadata": {},
   "outputs": [
    {
     "name": "stdout",
     "output_type": "stream",
     "text": [
      "expected revenue is 27.69700493238335\n"
     ]
    }
   ],
   "source": [
    "expected_revenue(2, one_mean, one_std, data1, beta_3cluster[0])"
   ]
  },
  {
   "cell_type": "code",
   "execution_count": 145,
   "metadata": {
    "scrolled": true
   },
   "outputs": [
    {
     "name": "stdout",
     "output_type": "stream",
     "text": [
      "The optimal assortment is a display of  1  highest priced products.\n"
     ]
    }
   ],
   "source": [
    "data2 = pd.read_csv('data4.csv')\n",
    "find_optimal(data2, two_mean, two_std, beta_3cluster[1])"
   ]
  },
  {
   "cell_type": "code",
   "execution_count": 146,
   "metadata": {},
   "outputs": [
    {
     "name": "stdout",
     "output_type": "stream",
     "text": [
      "expected revenue is 68.44321534637793\n"
     ]
    }
   ],
   "source": [
    "expected_revenue(1, two_mean, two_std, data2, beta_3cluster[1])"
   ]
  },
  {
   "cell_type": "code",
   "execution_count": 147,
   "metadata": {},
   "outputs": [
    {
     "name": "stdout",
     "output_type": "stream",
     "text": [
      "The optimal assortment is a display of  1  highest priced products.\n"
     ]
    }
   ],
   "source": [
    "data3 = pd.read_csv('data4.csv')\n",
    "find_optimal(data3, three_mean, three_std, beta_3cluster[2])"
   ]
  },
  {
   "cell_type": "code",
   "execution_count": 148,
   "metadata": {},
   "outputs": [
    {
     "name": "stdout",
     "output_type": "stream",
     "text": [
      "expected revenue is 68.72451466090337\n"
     ]
    }
   ],
   "source": [
    "expected_revenue(1, three_mean, three_std, data3, beta_3cluster[2])"
   ]
  },
  {
   "cell_type": "markdown",
   "metadata": {},
   "source": [
    "# 4 cluster"
   ]
  },
  {
   "cell_type": "markdown",
   "metadata": {},
   "source": [
    "# Assortment for unknown type"
   ]
  },
  {
   "cell_type": "code",
   "execution_count": 106,
   "metadata": {},
   "outputs": [
    {
     "name": "stdout",
     "output_type": "stream",
     "text": [
      "Problem solved in 1470.000000 milliseconds\n",
      "The objective value is  78.11959734687359\n"
     ]
    },
    {
     "data": {
      "text/plain": [
       "[1.0,\n",
       " 1.0,\n",
       " 1.0,\n",
       " 1.0,\n",
       " 1.0,\n",
       " 1.0,\n",
       " 1.0,\n",
       " 0.0,\n",
       " 0.0,\n",
       " 0.0,\n",
       " 0.0,\n",
       " 0.0,\n",
       " 0.0,\n",
       " 0.0,\n",
       " 0.0,\n",
       " 1.0,\n",
       " 0.0,\n",
       " 1.0,\n",
       " 1.0,\n",
       " 1.0,\n",
       " 1.0,\n",
       " 1.0,\n",
       " 1.0,\n",
       " 1.0,\n",
       " 1.0,\n",
       " 0.0,\n",
       " 1.0]"
      ]
     },
     "execution_count": 106,
     "metadata": {},
     "output_type": "execute_result"
    }
   ],
   "source": [
    "df = pd.read_csv('data1.csv')\n",
    "assortment1 = get_Assortment(df, mean_4cluster, std_4cluster, beta_4cluster, theta_4cluster)\n",
    "assortment1"
   ]
  },
  {
   "cell_type": "code",
   "execution_count": 56,
   "metadata": {},
   "outputs": [
    {
     "name": "stdout",
     "output_type": "stream",
     "text": [
      "Problem solved in 6511.000000 milliseconds\n",
      "The objective value is  96.11959553327092\n"
     ]
    },
    {
     "data": {
      "text/plain": [
       "[1.0,\n",
       " 1.0,\n",
       " 0.0,\n",
       " 0.0,\n",
       " 0.0,\n",
       " 0.0,\n",
       " 1.0,\n",
       " 1.0,\n",
       " 1.0,\n",
       " 1.0,\n",
       " 1.0,\n",
       " 0.0,\n",
       " 0.0,\n",
       " 0.0,\n",
       " 0.0,\n",
       " 0.0,\n",
       " 0.0,\n",
       " 0.0,\n",
       " 0.0,\n",
       " 0.0,\n",
       " 0.0,\n",
       " 1.0,\n",
       " 0.0,\n",
       " 0.0,\n",
       " 0.0,\n",
       " 0.0,\n",
       " 0.0,\n",
       " 0.0,\n",
       " 0.0]"
      ]
     },
     "execution_count": 56,
     "metadata": {},
     "output_type": "execute_result"
    }
   ],
   "source": [
    "df = pd.read_csv('data2.csv')\n",
    "assortment2 = get_Assortment(df, mean_4cluster, std_4cluster, beta_4cluster, theta_4cluster)\n",
    "assortment2"
   ]
  },
  {
   "cell_type": "code",
   "execution_count": 57,
   "metadata": {},
   "outputs": [
    {
     "name": "stdout",
     "output_type": "stream",
     "text": [
      "Problem solved in 7720.000000 milliseconds\n",
      "The objective value is  88.12637141520936\n"
     ]
    },
    {
     "data": {
      "text/plain": [
       "[1.0,\n",
       " 1.0,\n",
       " 1.0,\n",
       " 1.0,\n",
       " 1.0,\n",
       " 1.0,\n",
       " 0.0,\n",
       " 1.0,\n",
       " 1.0,\n",
       " 0.0,\n",
       " 1.0,\n",
       " 1.0,\n",
       " 0.0,\n",
       " 1.0,\n",
       " 1.0,\n",
       " 1.0,\n",
       " 1.0,\n",
       " 0.0,\n",
       " 0.0,\n",
       " 1.0,\n",
       " 0.0,\n",
       " 0.0,\n",
       " 0.0,\n",
       " 1.0,\n",
       " 1.0,\n",
       " 0.0]"
      ]
     },
     "execution_count": 57,
     "metadata": {},
     "output_type": "execute_result"
    }
   ],
   "source": [
    "df = pd.read_csv('data3.csv')\n",
    "assortment3 = get_Assortment(df, mean_4cluster, std_4cluster, beta_4cluster, theta_4cluster)\n",
    "assortment3"
   ]
  },
  {
   "cell_type": "code",
   "execution_count": 59,
   "metadata": {},
   "outputs": [
    {
     "name": "stdout",
     "output_type": "stream",
     "text": [
      "Problem solved in 10533.000000 milliseconds\n",
      "The objective value is  70.85190786353445\n"
     ]
    },
    {
     "data": {
      "text/plain": [
       "[0.0,\n",
       " 0.0,\n",
       " 0.0,\n",
       " 1.0,\n",
       " 1.0,\n",
       " 0.0,\n",
       " 1.0,\n",
       " 0.0,\n",
       " 1.0,\n",
       " 0.0,\n",
       " 1.0,\n",
       " 0.0,\n",
       " 0.0,\n",
       " 0.0,\n",
       " 0.0,\n",
       " 1.0,\n",
       " 0.0,\n",
       " 0.0,\n",
       " 1.0,\n",
       " 1.0,\n",
       " 1.0,\n",
       " 1.0,\n",
       " 0.0,\n",
       " 0.0,\n",
       " 0.0,\n",
       " 0.0,\n",
       " 1.0]"
      ]
     },
     "execution_count": 59,
     "metadata": {},
     "output_type": "execute_result"
    }
   ],
   "source": [
    "df = pd.read_csv('data4.csv')\n",
    "assortment4 = get_Assortment(df, mean_4cluster, std_4cluster, beta_4cluster, theta_4cluster)\n",
    "assortment4"
   ]
  },
  {
   "cell_type": "code",
   "execution_count": 60,
   "metadata": {},
   "outputs": [],
   "source": [
    "def get_unknown_type_Rev(assortment,df,mean,std,beta):\n",
    "    # need to use mean riginal and std original here\n",
    "    # use original beta here\n",
    "    for i in range(8):\n",
    "        df.iloc[:,i] = (df.iloc[:,i] - mean[i]) / std[i]\n",
    "    for i in range(len(assortment)):\n",
    "        if assortment[i] == 0:\n",
    "        #     temp_df = pd.DataFrame(data2_original.iloc[i], columns=['prop_starrating', 'prop_review_score', 'prop_brand_bool',\n",
    "        #    'prop_location_score', 'prop_accesibility_score',\n",
    "        #    'prop_log_historical_price', 'price_usd', 'promotion_flag'])\n",
    "        #     # data2_assotment = pd.concat([data2_assortment, temp_df])\n",
    "            # data2_assortment = data2_assortment.append(temp_df)\n",
    "            df = df.drop([i])\n",
    "    features = ['prop_starrating', 'prop_review_score', 'prop_brand_bool',\n",
    "           'prop_location_score', 'prop_accesibility_score',\n",
    "           'prop_log_historical_price', 'price_usd', 'promotion_flag']\n",
    "    original_mean = {}\n",
    "    original_std = {}\n",
    "    for i in range(len(features)):\n",
    "        original_mean[features[i]] = mean[i]\n",
    "        original_std[features[i]] = std[i]\n",
    "    def expected_revenue_original(df, beta):\n",
    "        num_hotel = df.shape[0]\n",
    "        base = 1\n",
    "        top = 0\n",
    "        for i in range(num_hotel):\n",
    "            u = 0\n",
    "            u += beta[0]\n",
    "            for j in range(1,9):\n",
    "                u += beta[j] * df.iloc[i][j-1]\n",
    "            # print(u)\n",
    "            v = np.exp(u) \n",
    "            base += v\n",
    "            p = df.iloc[i][-2] * original_std['price_usd'] + original_mean['price_usd']\n",
    "            top += v*p\n",
    "        expected_revenue = top / base \n",
    "        print('expected revenue is', expected_revenue)\n",
    "    expected_revenue_original(df, beta)"
   ]
  },
  {
   "cell_type": "code",
   "execution_count": 61,
   "metadata": {},
   "outputs": [],
   "source": [
    "# assortment for data1\n",
    "beta = [-1.74662743,  0.40812391,  0.10876074,  0.10138235,  0.02202491,\n",
    "        0.04344406, -0.06686938, -1.33110656,  0.15977641]"
   ]
  },
  {
   "cell_type": "markdown",
   "metadata": {},
   "source": [
    "# Data 1 for unknown type"
   ]
  },
  {
   "cell_type": "code",
   "execution_count": 108,
   "metadata": {},
   "outputs": [
    {
     "name": "stdout",
     "output_type": "stream",
     "text": [
      "expected revenue is 107.3396340843958\n"
     ]
    }
   ],
   "source": [
    "df = pd.read_csv('data1.csv')\n",
    "get_unknown_type_Rev(assortment1,df,mean_original,std_original,beta)"
   ]
  },
  {
   "cell_type": "markdown",
   "metadata": {},
   "source": [
    "# Data 2 for unknown type"
   ]
  },
  {
   "cell_type": "code",
   "execution_count": 63,
   "metadata": {},
   "outputs": [
    {
     "name": "stdout",
     "output_type": "stream",
     "text": [
      "expected revenue is 130.5562106874302\n"
     ]
    }
   ],
   "source": [
    "df = pd.read_csv('data2.csv')\n",
    "get_unknown_type_Rev(assortment2,df,mean_original,std_original,beta)"
   ]
  },
  {
   "cell_type": "markdown",
   "metadata": {},
   "source": [
    "# Data 3 for unknown type"
   ]
  },
  {
   "cell_type": "code",
   "execution_count": 64,
   "metadata": {},
   "outputs": [
    {
     "name": "stdout",
     "output_type": "stream",
     "text": [
      "expected revenue is 120.9612284936689\n"
     ]
    }
   ],
   "source": [
    "df = pd.read_csv('data3.csv')\n",
    "get_unknown_type_Rev(assortment3,df,mean_original,std_original,beta)"
   ]
  },
  {
   "cell_type": "markdown",
   "metadata": {},
   "source": [
    "# Data 4 for unknown type"
   ]
  },
  {
   "cell_type": "code",
   "execution_count": 65,
   "metadata": {},
   "outputs": [
    {
     "name": "stdout",
     "output_type": "stream",
     "text": [
      "expected revenue is 97.4088309422418\n"
     ]
    }
   ],
   "source": [
    "df = pd.read_csv('data4.csv')\n",
    "get_unknown_type_Rev(assortment4,df,mean_original,std_original,beta)"
   ]
  },
  {
   "cell_type": "code",
   "execution_count": 66,
   "metadata": {},
   "outputs": [],
   "source": [
    "def revenue(assortment, beta):\n",
    "\n",
    "    num_hotel = assortment.shape[0]\n",
    "\n",
    "    base = 1\n",
    "    top = 0\n",
    "\n",
    "    for i in range(num_hotel):\n",
    "\n",
    "        u = 0\n",
    "        u += beta[0]\n",
    "\n",
    "        for j in range(1,9):\n",
    "            u += beta[j] * assortment.iloc[i][j-1]\n",
    "\n",
    "        # print(u)\n",
    "            \n",
    "        v = np.exp(u) \n",
    "        base += v\n",
    "\n",
    "        p = assortment.iloc[i][-2]\n",
    "        top += v*p\n",
    "\n",
    "    expected_revenue = top / base \n",
    "\n",
    "    return expected_revenue\n",
    "def find_optimal(df,mean, std, beta):\n",
    "\n",
    "    for feature in new_features:\n",
    "        df[feature] = (df[feature] - mean[feature]) / std[feature]\n",
    "    # for i in range(len(new_features)):\n",
    "    #    df[new_features[i]] = (df[new_features[i]] - mean[i]) / std[i]\n",
    "    df = df.sort_values([\"price_usd\"],ascending=False)\n",
    "    sorted_df = df.reset_index(drop=True)\n",
    "    \n",
    "    num = sorted_df.shape[0]\n",
    "    revenue_list = []\n",
    "\n",
    "    for i in range(num):\n",
    "        assortment = sorted_df.head(i+1)\n",
    "        revenue_list.append(revenue(assortment,beta))\n",
    "\n",
    "\n",
    "    maximum = max(revenue_list)\n",
    "    for i in range(len(revenue_list)):\n",
    "        if revenue_list[i] == maximum:\n",
    "            print('The optimal assortment is a display of ', (i+1), ' highest priced products.') \n",
    "def expected_revenue(num, mean, std, df, beta):\n",
    "\n",
    "    optimal_assortment = df.head(num)\n",
    "\n",
    "    num_hotel = optimal_assortment.shape[0]\n",
    "\n",
    "    base = 1\n",
    "    top = 0\n",
    "\n",
    "    for i in range(num_hotel):\n",
    "\n",
    "        u = 0\n",
    "        u += beta[0]\n",
    "\n",
    "        for j in range(1,9):\n",
    "            u += beta[j] * optimal_assortment.iloc[i][j-1]\n",
    "\n",
    "        # print(u)\n",
    "            \n",
    "        v = np.exp(u) \n",
    "        base += v\n",
    "\n",
    "        p = optimal_assortment.iloc[i][-2] * std['price_usd'] + mean['price_usd']\n",
    "        top += v*p\n",
    "\n",
    "    expected_revenue = top / base \n",
    "\n",
    "\n",
    "    print('expected revenue is', expected_revenue)\n",
    "\n",
    "features = ['prop_starrating', 'prop_review_score', 'prop_brand_bool',\n",
    "       'prop_location_score', 'prop_accesibility_score',\n",
    "       'prop_log_historical_price', 'price_usd', 'promotion_flag']\n",
    "\n",
    "one_mean = {}\n",
    "one_std = {}\n",
    "two_mean = {}\n",
    "two_std = {}\n",
    "three_mean = {}\n",
    "three_std = {}\n",
    "four_mean = {}\n",
    "four_std = {}\n",
    "\n",
    "for i in range(len(features)):\n",
    "       \n",
    "    one_mean[features[i]] = mean_4_one[i]\n",
    "    one_std[features[i]] = std_4_one[i]\n",
    "    two_mean[features[i]] = mean_4_two[i]\n",
    "    two_std[features[i]] = std_4_two[i]\n",
    "    three_mean[features[i]] = mean_4_three[i]\n",
    "    three_std[features[i]] = std_4_three[i]\n",
    "    four_mean[features[i]] = mean_4_four[i]\n",
    "    four_std[features[i]] = std_4_four[i]\n",
    "\n",
    "new_features = ['prop_starrating', 'prop_review_score', 'prop_brand_bool',\n",
    "       'prop_location_score', 'prop_accesibility_score',\n",
    "       'prop_log_historical_price', 'price_usd', 'promotion_flag']"
   ]
  },
  {
   "cell_type": "markdown",
   "metadata": {},
   "source": [
    "# Data 1 when knowing the type"
   ]
  },
  {
   "cell_type": "code",
   "execution_count": 69,
   "metadata": {},
   "outputs": [
    {
     "name": "stdout",
     "output_type": "stream",
     "text": [
      "The optimal assortment is a display of  6  highest priced products.\n"
     ]
    }
   ],
   "source": [
    "data1 = pd.read_csv('data1.csv')\n",
    "find_optimal(data1, one_mean, one_std, beta_4cluster[0])"
   ]
  },
  {
   "cell_type": "code",
   "execution_count": 70,
   "metadata": {},
   "outputs": [
    {
     "name": "stdout",
     "output_type": "stream",
     "text": [
      "expected revenue is 76.09948094662586\n"
     ]
    }
   ],
   "source": [
    "expected_revenue(6, one_mean, one_std, data1, beta_4cluster[0])"
   ]
  },
  {
   "cell_type": "code",
   "execution_count": 71,
   "metadata": {},
   "outputs": [
    {
     "name": "stdout",
     "output_type": "stream",
     "text": [
      "The optimal assortment is a display of  4  highest priced products.\n"
     ]
    }
   ],
   "source": [
    "data2 = pd.read_csv('data1.csv')\n",
    "find_optimal(data2, two_mean, two_std, beta_4cluster[1])"
   ]
  },
  {
   "cell_type": "code",
   "execution_count": 72,
   "metadata": {},
   "outputs": [
    {
     "name": "stdout",
     "output_type": "stream",
     "text": [
      "expected revenue is 56.399565981831635\n"
     ]
    }
   ],
   "source": [
    "expected_revenue(4, two_mean, two_std, data2, beta_4cluster[1])"
   ]
  },
  {
   "cell_type": "code",
   "execution_count": 73,
   "metadata": {},
   "outputs": [
    {
     "name": "stdout",
     "output_type": "stream",
     "text": [
      "The optimal assortment is a display of  1  highest priced products.\n"
     ]
    }
   ],
   "source": [
    "data3 = pd.read_csv('data1.csv')\n",
    "find_optimal(data3, three_mean, three_std, beta_4cluster[2])"
   ]
  },
  {
   "cell_type": "code",
   "execution_count": 74,
   "metadata": {},
   "outputs": [
    {
     "name": "stdout",
     "output_type": "stream",
     "text": [
      "expected revenue is 17.825977219784924\n"
     ]
    }
   ],
   "source": [
    "expected_revenue(1, three_mean, three_std, data3, beta_4cluster[2])"
   ]
  },
  {
   "cell_type": "code",
   "execution_count": 75,
   "metadata": {},
   "outputs": [
    {
     "name": "stdout",
     "output_type": "stream",
     "text": [
      "The optimal assortment is a display of  1  highest priced products.\n"
     ]
    }
   ],
   "source": [
    "data4 = pd.read_csv('data1.csv')\n",
    "find_optimal(data4, four_mean, four_std, beta_4cluster[3])"
   ]
  },
  {
   "cell_type": "code",
   "execution_count": 77,
   "metadata": {},
   "outputs": [
    {
     "name": "stdout",
     "output_type": "stream",
     "text": [
      "expected revenue is 14.40635043647111\n"
     ]
    }
   ],
   "source": [
    "expected_revenue(1, four_mean, four_std, data4, beta_4cluster[3])"
   ]
  },
  {
   "cell_type": "markdown",
   "metadata": {},
   "source": [
    "# Data 2 when knowing the type"
   ]
  },
  {
   "cell_type": "code",
   "execution_count": 78,
   "metadata": {},
   "outputs": [
    {
     "name": "stdout",
     "output_type": "stream",
     "text": [
      "The optimal assortment is a display of  3  highest priced products.\n"
     ]
    }
   ],
   "source": [
    "data1 = pd.read_csv('data2.csv')\n",
    "find_optimal(data1, one_mean, one_std, beta_4cluster[0])"
   ]
  },
  {
   "cell_type": "code",
   "execution_count": 79,
   "metadata": {},
   "outputs": [
    {
     "name": "stdout",
     "output_type": "stream",
     "text": [
      "expected revenue is 95.08681622346974\n"
     ]
    }
   ],
   "source": [
    "expected_revenue(3, one_mean, one_std, data1, beta_4cluster[0])"
   ]
  },
  {
   "cell_type": "code",
   "execution_count": 80,
   "metadata": {},
   "outputs": [
    {
     "name": "stdout",
     "output_type": "stream",
     "text": [
      "The optimal assortment is a display of  3  highest priced products.\n"
     ]
    }
   ],
   "source": [
    "data2 = pd.read_csv('data2.csv')\n",
    "find_optimal(data2, two_mean, two_std, beta_4cluster[1])"
   ]
  },
  {
   "cell_type": "code",
   "execution_count": 81,
   "metadata": {},
   "outputs": [
    {
     "name": "stdout",
     "output_type": "stream",
     "text": [
      "expected revenue is 67.26774225862488\n"
     ]
    }
   ],
   "source": [
    "expected_revenue(3, two_mean, two_std, data2, beta_4cluster[1])"
   ]
  },
  {
   "cell_type": "code",
   "execution_count": 82,
   "metadata": {},
   "outputs": [
    {
     "name": "stdout",
     "output_type": "stream",
     "text": [
      "The optimal assortment is a display of  3  highest priced products.\n"
     ]
    }
   ],
   "source": [
    "data3 = pd.read_csv('data2.csv')\n",
    "find_optimal(data3, three_mean, three_std, beta_4cluster[2])"
   ]
  },
  {
   "cell_type": "code",
   "execution_count": 83,
   "metadata": {},
   "outputs": [
    {
     "name": "stdout",
     "output_type": "stream",
     "text": [
      "expected revenue is 79.24615991027659\n"
     ]
    }
   ],
   "source": [
    "expected_revenue(3, three_mean, three_std, data3, beta_4cluster[2])"
   ]
  },
  {
   "cell_type": "code",
   "execution_count": 84,
   "metadata": {},
   "outputs": [
    {
     "name": "stdout",
     "output_type": "stream",
     "text": [
      "The optimal assortment is a display of  3  highest priced products.\n"
     ]
    }
   ],
   "source": [
    "data4 = pd.read_csv('data2.csv')\n",
    "find_optimal(data4, four_mean, four_std, beta_4cluster[3])"
   ]
  },
  {
   "cell_type": "code",
   "execution_count": 85,
   "metadata": {},
   "outputs": [
    {
     "name": "stdout",
     "output_type": "stream",
     "text": [
      "expected revenue is 73.5583729290145\n"
     ]
    }
   ],
   "source": [
    "expected_revenue(3, four_mean, four_std, data4, beta_4cluster[3])"
   ]
  },
  {
   "cell_type": "markdown",
   "metadata": {},
   "source": [
    "# Data 3 when knowing the type"
   ]
  },
  {
   "cell_type": "code",
   "execution_count": 86,
   "metadata": {},
   "outputs": [
    {
     "name": "stdout",
     "output_type": "stream",
     "text": [
      "The optimal assortment is a display of  9  highest priced products.\n"
     ]
    }
   ],
   "source": [
    "data1 = pd.read_csv('data3.csv')\n",
    "find_optimal(data1, one_mean, one_std, beta_4cluster[0])"
   ]
  },
  {
   "cell_type": "code",
   "execution_count": 89,
   "metadata": {},
   "outputs": [
    {
     "name": "stdout",
     "output_type": "stream",
     "text": [
      "expected revenue is 103.04253226744395\n"
     ]
    }
   ],
   "source": [
    "expected_revenue(9, one_mean, one_std, data1, beta_4cluster[0])"
   ]
  },
  {
   "cell_type": "code",
   "execution_count": 90,
   "metadata": {},
   "outputs": [
    {
     "name": "stdout",
     "output_type": "stream",
     "text": [
      "The optimal assortment is a display of  3  highest priced products.\n"
     ]
    }
   ],
   "source": [
    "data2 = pd.read_csv('data3.csv')\n",
    "find_optimal(data2, two_mean, two_std, beta_4cluster[1])"
   ]
  },
  {
   "cell_type": "code",
   "execution_count": 91,
   "metadata": {},
   "outputs": [
    {
     "name": "stdout",
     "output_type": "stream",
     "text": [
      "expected revenue is 50.08825158709839\n"
     ]
    }
   ],
   "source": [
    "expected_revenue(3, two_mean, two_std, data2, beta_4cluster[1])"
   ]
  },
  {
   "cell_type": "code",
   "execution_count": 92,
   "metadata": {},
   "outputs": [
    {
     "name": "stdout",
     "output_type": "stream",
     "text": [
      "The optimal assortment is a display of  3  highest priced products.\n"
     ]
    }
   ],
   "source": [
    "data3 = pd.read_csv('data3.csv')\n",
    "find_optimal(data3, three_mean, three_std, beta_4cluster[2])"
   ]
  },
  {
   "cell_type": "code",
   "execution_count": 93,
   "metadata": {},
   "outputs": [
    {
     "name": "stdout",
     "output_type": "stream",
     "text": [
      "expected revenue is 52.0725866801742\n"
     ]
    }
   ],
   "source": [
    "expected_revenue(3, three_mean, three_std, data3, beta_4cluster[2])"
   ]
  },
  {
   "cell_type": "code",
   "execution_count": 94,
   "metadata": {},
   "outputs": [
    {
     "name": "stdout",
     "output_type": "stream",
     "text": [
      "The optimal assortment is a display of  4  highest priced products.\n"
     ]
    }
   ],
   "source": [
    "data4 = pd.read_csv('data3.csv')\n",
    "find_optimal(data4, four_mean, four_std, beta_4cluster[3])"
   ]
  },
  {
   "cell_type": "code",
   "execution_count": 95,
   "metadata": {},
   "outputs": [
    {
     "name": "stdout",
     "output_type": "stream",
     "text": [
      "expected revenue is 55.262678799566295\n"
     ]
    }
   ],
   "source": [
    "expected_revenue(4, four_mean, four_std, data4, beta_4cluster[3])"
   ]
  },
  {
   "cell_type": "markdown",
   "metadata": {},
   "source": [
    "# Data 4 when knowing the type"
   ]
  },
  {
   "cell_type": "code",
   "execution_count": 96,
   "metadata": {},
   "outputs": [
    {
     "name": "stdout",
     "output_type": "stream",
     "text": [
      "The optimal assortment is a display of  2  highest priced products.\n"
     ]
    }
   ],
   "source": [
    "data1 = pd.read_csv('data4.csv')\n",
    "find_optimal(data1, one_mean, one_std, beta_4cluster[0])"
   ]
  },
  {
   "cell_type": "code",
   "execution_count": 97,
   "metadata": {},
   "outputs": [
    {
     "name": "stdout",
     "output_type": "stream",
     "text": [
      "expected revenue is 37.166846933375595\n"
     ]
    }
   ],
   "source": [
    "expected_revenue(2, one_mean, one_std, data1, beta_4cluster[0])"
   ]
  },
  {
   "cell_type": "code",
   "execution_count": 98,
   "metadata": {
    "scrolled": true
   },
   "outputs": [
    {
     "name": "stdout",
     "output_type": "stream",
     "text": [
      "The optimal assortment is a display of  1  highest priced products.\n"
     ]
    }
   ],
   "source": [
    "data2 = pd.read_csv('data4.csv')\n",
    "find_optimal(data2, two_mean, two_std, beta_4cluster[1])"
   ]
  },
  {
   "cell_type": "code",
   "execution_count": 99,
   "metadata": {},
   "outputs": [
    {
     "name": "stdout",
     "output_type": "stream",
     "text": [
      "expected revenue is 17.896870188359003\n"
     ]
    }
   ],
   "source": [
    "expected_revenue(1, two_mean, two_std, data2, beta_4cluster[1])"
   ]
  },
  {
   "cell_type": "code",
   "execution_count": 100,
   "metadata": {},
   "outputs": [
    {
     "name": "stdout",
     "output_type": "stream",
     "text": [
      "The optimal assortment is a display of  1  highest priced products.\n"
     ]
    }
   ],
   "source": [
    "data3 = pd.read_csv('data4.csv')\n",
    "find_optimal(data3, three_mean, three_std, beta_4cluster[2])"
   ]
  },
  {
   "cell_type": "code",
   "execution_count": 101,
   "metadata": {},
   "outputs": [
    {
     "name": "stdout",
     "output_type": "stream",
     "text": [
      "expected revenue is 23.0126797928701\n"
     ]
    }
   ],
   "source": [
    "expected_revenue(1, three_mean, three_std, data3, beta_4cluster[2])"
   ]
  },
  {
   "cell_type": "code",
   "execution_count": 102,
   "metadata": {},
   "outputs": [
    {
     "name": "stdout",
     "output_type": "stream",
     "text": [
      "The optimal assortment is a display of  1  highest priced products.\n"
     ]
    }
   ],
   "source": [
    "data4 = pd.read_csv('data4.csv')\n",
    "find_optimal(data4, four_mean, four_std, beta_4cluster[3])"
   ]
  },
  {
   "cell_type": "code",
   "execution_count": 103,
   "metadata": {},
   "outputs": [
    {
     "name": "stdout",
     "output_type": "stream",
     "text": [
      "expected revenue is 24.956915436056192\n"
     ]
    }
   ],
   "source": [
    "expected_revenue(1, four_mean, four_std, data4, beta_4cluster[3])"
   ]
  }
 ],
 "metadata": {
  "kernelspec": {
   "display_name": "Python 3",
   "language": "python",
   "name": "python3"
  },
  "language_info": {
   "codemirror_mode": {
    "name": "ipython",
    "version": 3
   },
   "file_extension": ".py",
   "mimetype": "text/x-python",
   "name": "python",
   "nbconvert_exporter": "python",
   "pygments_lexer": "ipython3",
   "version": "3.7.3"
  }
 },
 "nbformat": 4,
 "nbformat_minor": 4
}
